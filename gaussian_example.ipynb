{
  "nbformat": 4,
  "nbformat_minor": 0,
  "metadata": {
    "colab": {
      "name": "gaussian-example.ipynb",
      "provenance": [],
      "mount_file_id": "197etfE1bMCP1Kq8BE1LBicfInRClK4PC",
      "authorship_tag": "ABX9TyMqh7Ugd1J9+tZd8fPSeAzt",
      "include_colab_link": true
    },
    "kernelspec": {
      "name": "python3",
      "display_name": "Python 3"
    }
  },
  "cells": [
    {
      "cell_type": "markdown",
      "metadata": {
        "id": "view-in-github",
        "colab_type": "text"
      },
      "source": [
        "<a href=\"https://colab.research.google.com/github/Raghavendarlokineni/colab-machine-learning/blob/develop/gaussian_example.ipynb\" target=\"_parent\"><img src=\"https://colab.research.google.com/assets/colab-badge.svg\" alt=\"Open In Colab\"/></a>"
      ]
    },
    {
      "cell_type": "code",
      "metadata": {
        "id": "q4GDrc1mrPu3",
        "colab_type": "code",
        "colab": {}
      },
      "source": [
        "import math\n",
        "import matplotlib.pyplot as plt\n",
        "\n",
        "class Gaussian():\n",
        "    \"\"\"\n",
        "    gaussian distribution class for calculating and \n",
        "    visiualizing gaussian distribution\n",
        "\n",
        "    Attributes:\n",
        "        mean (float)\n",
        "        stdev (float)\n",
        "        data_list (list of floats)\n",
        "    \"\"\"\n",
        "    def __init__(self, mu = 0, sigma = 1):\n",
        "        \n",
        "        self.mean = mu\n",
        "        self.stdev = sigma\n",
        "        self.data = []\n",
        "\n",
        "    def calculate_mean(self):\n",
        "        \"\"\"\n",
        "        method to calculate mean of the data\n",
        "\n",
        "        Args: None\n",
        "\n",
        "        Returns: mean of the data set\n",
        "        \"\"\"\n",
        "        avg = 1.0 * sum(self.data) / len(self.data)\n",
        "        self.mean = avg\n",
        "        return self.mean\n",
        "\n",
        "    def calculate_stdev(self, sample=True):\n",
        "        \"\"\"\n",
        "        method to calculate stand deviation\n",
        "\n",
        "        Args:\n",
        "            sample: bool - whether data represents a sample or population\n",
        "\n",
        "        Returns:\n",
        "            float: standard deviation of data set    \n",
        "        \"\"\"    \n",
        "        if sample:\n",
        "            n = len(self.data) - 1\n",
        "        else:\n",
        "            n = len(self.data)\n",
        "        mean = self.mean\n",
        "        sigma = 0\n",
        "\n",
        "        for d in self.data:\n",
        "            sigma += (d - mean) ** 2\n",
        "        \n",
        "        sigma = math.sqrt(sigma / n)\n",
        "        self.stdev = sigma\n",
        "        \n",
        "        return self.stdev\n",
        "\n",
        "    def read_data_file(self, file_name, sample=True):\n",
        "        \"\"\"\n",
        "        method to read data from a text file\n",
        "\n",
        "        Args:\n",
        "            file_name - string\n",
        "        \n",
        "        Returns:\n",
        "            None\n",
        "        \"\"\"\n",
        "        with open(file_name) as file:\n",
        "            data_list = []\n",
        "            line = file.readline()\n",
        "            while line:\n",
        "                data_list.append(int(line))\n",
        "                line = file.readline()\n",
        "        file.close()\n",
        "\n",
        "        self.data = data_list\n",
        "        self.mean = self.calculate_mean()\n",
        "        self.stdev = self.calculate_stdev(sample)\n",
        "\n",
        "    def plot_histogram(self):\n",
        "        \"\"\"\n",
        "        method to output histogram\n",
        "\n",
        "        Args: None\n",
        "\n",
        "        Returns: None\n",
        "        \"\"\"\n",
        "        plt.hist(self.data)\n",
        "        plt.title(\"histogram of data\")\n",
        "        plt.xlabel(\"data\")\n",
        "        plt.ylabel(\"count\")\n",
        "\n",
        "    def pdf(self, x):\n",
        "        \"\"\"\n",
        "        probablity density function\n",
        "\n",
        "        Args: \n",
        "            x - float\n",
        "\n",
        "        Returns:\n",
        "            float    \n",
        "        \"\"\"\n",
        "        return (1.0 / (self.stdev * math.sqrt(2*math.pi))) * math.exp(-0.5*((x - self.mean) / self.stdev) ** 2)\n",
        "\n",
        "    def plot_histogram_pdf(self, n_spaces = 50):\n",
        "        \"\"\"\n",
        "        method to plot normalised histogram\n",
        "\n",
        "        Args: \n",
        "            n_spaces - int - number of data points\n",
        "\n",
        "        Returns:\n",
        "            list: x values for the pdf plot\n",
        "            list: y values for the pdf plot\n",
        "        \"\"\"\n",
        "\n",
        "        mu = self.mean \n",
        "        sigma = self.stdev\n",
        "        min_range = min(self.data)\n",
        "        max_range = max(self.data)\n",
        "\n",
        "        # calculates interval b/w x values\n",
        "        interval = 1.0 * (max_range - min_range) / n_spaces\n",
        "\n",
        "        x = []\n",
        "        y = []\n",
        "\n",
        "        # calculate x values to visualize\n",
        "        for i in range(n_spaces):\n",
        "            tmp = min_range + interval * i\n",
        "            x.append(tmp)\n",
        "            y.append(self.pdf(tmp))\n",
        "\n",
        "        #make the plots\n",
        "        fig, axes = plt.subplots(2, sharex=True)\n",
        "        fig.subplots_adjust(hspace=.5)\n",
        "        axes[0].hist(self.data, density=True)\n",
        "        axes[0].set_title('Normed Histogram of Data')\n",
        "        axes[0].set_ylabel('Density')\n",
        "\n",
        "        axes[1].plot(x, y)\n",
        "        axes[1].set_title('Normal Distribution for \\n Sample Mean and Sample Standard Deviation')\n",
        "        axes[0].set_ylabel('Density')\n",
        "        plt.show()\n",
        "\n",
        "        return x, y\n",
        "\n"
      ],
      "execution_count": 3,
      "outputs": []
    },
    {
      "cell_type": "code",
      "metadata": {
        "id": "RMvch6x9lqSn",
        "colab_type": "code",
        "colab": {
          "base_uri": "https://localhost:8080/",
          "height": 402
        },
        "outputId": "8af95704-b4f1-4adb-efac-caebb9c4eed9"
      },
      "source": [
        "# Unit tests for checking the solution\n",
        "import unittest\n",
        "\n",
        "class TestGaussianClass(unittest.TestCase):\n",
        "    def setUp(self):\n",
        "        self.gaussian = Gaussian(25, 2)\n",
        "\n",
        "    def test_initialization(self): \n",
        "        self.assertEqual(self.gaussian.mean, 25, 'incorrect mean')\n",
        "        self.assertEqual(self.gaussian.stdev, 2, 'incorrect standard deviation')\n",
        "\n",
        "    def test_pdf(self):\n",
        "        self.assertEqual(round(self.gaussian.pdf(25), 5), 0.19947,\\\n",
        "         'pdf function does not give expected result') \n",
        "\n",
        "    def test_meancalculation(self):\n",
        "        self.gaussian.read_data_file('numbers.txt', True)\n",
        "        self.assertEqual(self.gaussian.calculate_mean(),\\\n",
        "         sum(self.gaussian.data) / float(len(self.gaussian.data)), 'calculated mean not as expected')\n",
        "\n",
        "    def test_stdevcalculation(self):\n",
        "        self.gaussian.read_data_file('numbers.txt', True)\n",
        "        self.assertEqual(round(self.gaussian.stdev, 2), 92.87, 'sample standard deviation incorrect')\n",
        "        self.gaussian.read_data_file('numbers.txt', False)\n",
        "        self.assertEqual(round(self.gaussian.stdev, 2), 88.55, 'population standard deviation incorrect')\n",
        "\n",
        "        self.gaussian.plot_histogram_pdf(50)\n",
        "                \n",
        "tests = TestGaussianClass()\n",
        "\n",
        "tests_loaded = unittest.TestLoader().loadTestsFromModule(tests)\n",
        "\n",
        "unittest.TextTestRunner().run(tests_loaded)"
      ],
      "execution_count": 7,
      "outputs": [
        {
          "output_type": "stream",
          "text": [
            "..."
          ],
          "name": "stderr"
        },
        {
          "output_type": "display_data",
          "data": {
            "image/png": "[encoded data removed]",
            "text/plain": [
              "<Figure size 432x288 with 2 Axes>"
            ]
          },
          "metadata": {
            "tags": [],
            "needs_background": "light"
          }
        },
        {
          "output_type": "stream",
          "text": [
            ".\n",
            "----------------------------------------------------------------------\n",
            "Ran 4 tests in 0.433s\n",
            "\n",
            "OK\n"
          ],
          "name": "stderr"
        },
        {
          "output_type": "execute_result",
          "data": {
            "text/plain": [
              "<unittest.runner.TextTestResult run=4 errors=0 failures=0>"
            ]
          },
          "metadata": {
            "tags": []
          },
          "execution_count": 7
        }
      ]
    },
    {
      "cell_type": "markdown",
      "metadata": {
        "id": "sBT4HFM_mZqO",
        "colab_type": "text"
      },
      "source": [
        ""
      ]
    }
  ]
}