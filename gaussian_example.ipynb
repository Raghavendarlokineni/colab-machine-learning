{
  "nbformat": 4,
  "nbformat_minor": 0,
  "metadata": {
    "colab": {
      "name": "gaussian-example.ipynb",
      "provenance": [],
      "authorship_tag": "ABX9TyPbntpkAcr0fZS/I8/pUF1m",
      "include_colab_link": true
    },
    "kernelspec": {
      "name": "python3",
      "display_name": "Python 3"
    }
  },
  "cells": [
    {
      "cell_type": "markdown",
      "metadata": {
        "id": "view-in-github",
        "colab_type": "text"
      },
      "source": [
        "<a href=\"https://colab.research.google.com/github/Raghavendarlokineni/colab-machine-learning/blob/develop/gaussian_example.ipynb\" target=\"_parent\"><img src=\"https://colab.research.google.com/assets/colab-badge.svg\" alt=\"Open In Colab\"/></a>"
      ]
    },
    {
      "cell_type": "code",
      "metadata": {
        "id": "q4GDrc1mrPu3",
        "colab_type": "code",
        "colab": {}
      },
      "source": [
        "import math\n",
        "import matplotlib.pyplot as plt\n",
        "\n",
        "class Gaussian():\n",
        "    \"\"\"\n",
        "    gaussian distribution class for calculating and \n",
        "    visiualizing gaussian distribution\n",
        "\n",
        "    Attributes:\n",
        "        mean (float)\n",
        "        stdev (float)\n",
        "        data_list (list of floats)\n",
        "    \"\"\"\n",
        "    def __init__(self, mu = 0, sigma = 1):\n",
        "        \n",
        "        self.mean = mu\n",
        "        self.stdev = sigma\n",
        "        self.data = []\n",
        "\n",
        "    def calculate_mean(self):\n",
        "        \"\"\"\n",
        "        method to calculate mean of the data\n",
        "\n",
        "        Args: None\n",
        "\n",
        "        Returns: mean of the data set\n",
        "        \"\"\"\n",
        "        pass\n",
        "\n",
        "    def calculate_stdev(self, sample=True):\n",
        "        \"\"\"\n",
        "        method to calculate stand deviation\n",
        "\n",
        "        Args:\n",
        "            sample: bool - whether data represents a sample or population\n",
        "\n",
        "        Returns:\n",
        "            float: standard deviation of data set    \n",
        "        \"\"\"    \n",
        "        pass\n",
        "\n",
        "    def read"
      ],
      "execution_count": null,
      "outputs": []
    }
  ]
}