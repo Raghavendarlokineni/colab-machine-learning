{
  "nbformat": 4,
  "nbformat_minor": 0,
  "metadata": {
    "colab": {
      "name": "gaussian-example.ipynb",
      "provenance": [],
      "authorship_tag": "ABX9TyMTUUQRg5wVEkDjtYpEZpU/",
      "include_colab_link": true
    },
    "kernelspec": {
      "name": "python3",
      "display_name": "Python 3"
    }
  },
  "cells": [
    {
      "cell_type": "markdown",
      "metadata": {
        "id": "view-in-github",
        "colab_type": "text"
      },
      "source": [
        "<a href=\"https://colab.research.google.com/github/Raghavendarlokineni/colab-machine-learning/blob/develop/gaussian_example.ipynb\" target=\"_parent\"><img src=\"https://colab.research.google.com/assets/colab-badge.svg\" alt=\"Open In Colab\"/></a>"
      ]
    },
    {
      "cell_type": "code",
      "metadata": {
        "id": "q4GDrc1mrPu3",
        "colab_type": "code",
        "colab": {}
      },
      "source": [
        "import math\n",
        "import matplotlib.pyplot as plt\n",
        "\n",
        "class Gaussian():\n",
        "    \"\"\"\n",
        "    gaussian distribution class for calculating and \n",
        "    visiualizing gaussian distribution\n",
        "\n",
        "    Attributes:\n",
        "        \n",
        "    \"\"\""
      ],
      "execution_count": null,
      "outputs": []
    }
  ]
}