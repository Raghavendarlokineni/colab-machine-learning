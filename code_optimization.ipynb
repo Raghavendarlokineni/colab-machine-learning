{
  "nbformat": 4,
  "nbformat_minor": 0,
  "metadata": {
    "colab": {
      "name": "code_optimization.ipynb",
      "provenance": [],
      "authorship_tag": "ABX9TyMiyy5d+UASrjSQ9oSfP9Re",
      "include_colab_link": true
    },
    "kernelspec": {
      "name": "python3",
      "display_name": "Python 3"
    }
  },
  "cells": [
    {
      "cell_type": "markdown",
      "metadata": {
        "id": "view-in-github",
        "colab_type": "text"
      },
      "source": [
        "<a href=\"https://colab.research.google.com/github/Raghavendarlokineni/colab-machine-learning/blob/develop/code_optimization.ipynb\" target=\"_parent\"><img src=\"https://colab.research.google.com/assets/colab-badge.svg\" alt=\"Open In Colab\"/></a>"
      ]
    },
    {
      "cell_type": "code",
      "metadata": {
        "id": "YmUdVR90R9d8",
        "colab_type": "code",
        "colab": {}
      },
      "source": [
        "import time\n",
        "import pandas as pd\n",
        "import numpy as np\n",
        "\n",
        "recent_books = [i*2 for i in range(50000)]\n",
        "coding_books = [i*5 for i in range(50000)]"
      ],
      "execution_count": 0,
      "outputs": []
    },
    {
      "cell_type": "markdown",
      "metadata": {
        "id": "uRSvdTvOS4Mz",
        "colab_type": "text"
      },
      "source": [
        "**calculate time to get the common elements in these two lists by comparing each element of these lists**"
      ]
    },
    {
      "cell_type": "code",
      "metadata": {
        "id": "bDPklDTYTHsw",
        "colab_type": "code",
        "colab": {
          "base_uri": "https://localhost:8080/",
          "height": 50
        },
        "outputId": "e3f94020-a452-4c42-f5e9-78a18fa3d6ec"
      },
      "source": [
        "start_time = time.time()\n",
        "recent_coding_books = []\n",
        "\n",
        "for book in recent_books:\n",
        "    if book in coding_books:\n",
        "        recent_coding_books.append(book)\n",
        "\n",
        "print(len(recent_coding_books))\n",
        "print(\"Duration: {} seconds\".format(time.time()- start_time))"
      ],
      "execution_count": 24,
      "outputs": [
        {
          "output_type": "stream",
          "text": [
            "10000\n",
            "Duration: 22.220850467681885 seconds\n"
          ],
          "name": "stdout"
        }
      ]
    },
    {
      "cell_type": "markdown",
      "metadata": {
        "id": "KI1fAkbfcJKL",
        "colab_type": "text"
      },
      "source": [
        "**using numpy `intersect1d` method**"
      ]
    },
    {
      "cell_type": "code",
      "metadata": {
        "id": "yObvBcucdLuW",
        "colab_type": "code",
        "colab": {
          "base_uri": "https://localhost:8080/",
          "height": 50
        },
        "outputId": "217b47b5-6939-4168-efe0-5d7540b26d70"
      },
      "source": [
        "start_time = time.time()\n",
        "recent_coding_books = np.intersect1d(recent_books, coding_books)\n",
        "\n",
        "print(len(recent_coding_books))\n",
        "print(\"Duration: {} seconds\".format(time.time()- start_time))\n"
      ],
      "execution_count": 25,
      "outputs": [
        {
          "output_type": "stream",
          "text": [
            "10000\n",
            "Duration: 0.021330595016479492 seconds\n"
          ],
          "name": "stdout"
        }
      ]
    },
    {
      "cell_type": "markdown",
      "metadata": {
        "id": "H36LZsuVdxcg",
        "colab_type": "text"
      },
      "source": [
        "**using set `intersection` method**"
      ]
    },
    {
      "cell_type": "code",
      "metadata": {
        "id": "elgvmlPAd77s",
        "colab_type": "code",
        "colab": {
          "base_uri": "https://localhost:8080/",
          "height": 50
        },
        "outputId": "6f4b2de9-8ddd-44f6-b643-5d4f1e76acc3"
      },
      "source": [
        "start_time = time.time()\n",
        "recent_coding_books = set(recent_books).intersection(coding_books)\n",
        "\n",
        "print(len(recent_coding_books))\n",
        "print(\"Duration: {} seconds\".format(time.time()- start_time))"
      ],
      "execution_count": 26,
      "outputs": [
        {
          "output_type": "stream",
          "text": [
            "10000\n",
            "Duration: 0.003796815872192383 seconds\n"
          ],
          "name": "stdout"
        }
      ]
    }
  ]
}