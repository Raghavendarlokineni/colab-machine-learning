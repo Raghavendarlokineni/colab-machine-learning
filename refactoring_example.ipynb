{
  "nbformat": 4,
  "nbformat_minor": 0,
  "metadata": {
    "colab": {
      "name": "refactoring-example.ipynb",
      "provenance": [],
      "collapsed_sections": [],
      "authorship_tag": "ABX9TyMzCatlWgggHeA/RTEYbsfv",
      "include_colab_link": true
    },
    "kernelspec": {
      "name": "python3",
      "display_name": "Python 3"
    }
  },
  "cells": [
    {
      "cell_type": "markdown",
      "metadata": {
        "id": "view-in-github",
        "colab_type": "text"
      },
      "source": [
        "<a href=\"https://colab.research.google.com/github/Raghavendarlokineni/colab-machine-learning/blob/develop/refactoring_example.ipynb\" target=\"_parent\"><img src=\"https://colab.research.google.com/assets/colab-badge.svg\" alt=\"Open In Colab\"/></a>"
      ]
    },
    {
      "cell_type": "markdown",
      "metadata": {
        "id": "c1eUz42mEg_z",
        "colab_type": "text"
      },
      "source": [
        "\n",
        "\n",
        "```\n",
        "# This is an exercise from Udacity program\n",
        "```\n",
        "\n"
      ]
    },
    {
      "cell_type": "code",
      "metadata": {
        "id": "xPcqvKReDihB",
        "colab_type": "code",
        "outputId": "18ba68ad-76b4-43d1-c033-5e4f157339bb",
        "colab": {
          "base_uri": "https://localhost:8080/",
          "height": 151
        }
      },
      "source": [
        "import pandas as pd\n",
        "df = pd.read_csv(\"https://archive.ics.uci.edu/ml/machine-learning-databases/wine-quality/winequality-red.csv\", sep=\";\")\n",
        "\n",
        "print(df.head())"
      ],
      "execution_count": 37,
      "outputs": [
        {
          "output_type": "stream",
          "text": [
            "   fixed acidity  volatile acidity  citric acid  ...  sulphates  alcohol  quality\n",
            "0            7.4              0.70         0.00  ...       0.56      9.4        5\n",
            "1            7.8              0.88         0.00  ...       0.68      9.8        5\n",
            "2            7.8              0.76         0.04  ...       0.65      9.8        5\n",
            "3           11.2              0.28         0.56  ...       0.58      9.8        6\n",
            "4            7.4              0.70         0.00  ...       0.56      9.4        5\n",
            "\n",
            "[5 rows x 12 columns]\n"
          ],
          "name": "stdout"
        }
      ]
    },
    {
      "cell_type": "markdown",
      "metadata": {
        "id": "UFInZBtdE2a_",
        "colab_type": "text"
      },
      "source": [
        "**Renaming columns manually**"
      ]
    },
    {
      "cell_type": "code",
      "metadata": {
        "id": "_4kEtl9yErmH",
        "colab_type": "code",
        "outputId": "856e6139-4a98-4407-9482-87bc0b93a53f",
        "colab": {
          "base_uri": "https://localhost:8080/",
          "height": 84
        }
      },
      "source": [
        "new_df = df.rename(columns={\n",
        "                             'fixed acidity': 'fixed_acidity',\n",
        "                             'volatile acidity': 'volatile_acidity',\n",
        "                             'citric acid': 'citric_acid',\n",
        "                             'residual sugar': 'residual_sugar',\n",
        "                             'free sulfur dioxide': 'free_sulfur_dioxide',\n",
        "                             'total sulfur dioxide': 'total_sulfur_dioxide'\n",
        "})\n",
        "\n",
        "print(new_df.columns)"
      ],
      "execution_count": 38,
      "outputs": [
        {
          "output_type": "stream",
          "text": [
            "Index(['fixed_acidity', 'volatile_acidity', 'citric_acid', 'residual_sugar',\n",
            "       'chlorides', 'free_sulfur_dioxide', 'total_sulfur_dioxide', 'density',\n",
            "       'pH', 'sulphates', 'alcohol', 'quality'],\n",
            "      dtype='object')\n"
          ],
          "name": "stdout"
        }
      ]
    },
    {
      "cell_type": "markdown",
      "metadata": {
        "id": "KdASPecQFOOG",
        "colab_type": "text"
      },
      "source": [
        "another way of doing this"
      ]
    },
    {
      "cell_type": "code",
      "metadata": {
        "id": "KIXzKymPFRIG",
        "colab_type": "code",
        "outputId": "bf99f120-b226-4557-88f9-6ee29b38d2b1",
        "colab": {
          "base_uri": "https://localhost:8080/",
          "height": 84
        }
      },
      "source": [
        "labels = list(df.columns)\n",
        "labels[0] = labels[0].replace(\" \", \"_\")\n",
        "labels[1] = labels[1].replace(\" \", \"_\")\n",
        "labels[2] = labels[2].replace(\" \", \"_\")\n",
        "labels[3] = labels[3].replace(\" \", \"_\")\n",
        "labels[4] = labels[4].replace(\" \", \"_\")\n",
        "labels[5] = labels[5].replace(\" \", \"_\")\n",
        "labels[6] = labels[6].replace(\" \", \"_\")\n",
        "df.columns = labels\n",
        "\n",
        "print(df.columns)\n"
      ],
      "execution_count": 39,
      "outputs": [
        {
          "output_type": "stream",
          "text": [
            "Index(['fixed_acidity', 'volatile_acidity', 'citric_acid', 'residual_sugar',\n",
            "       'chlorides', 'free_sulfur_dioxide', 'total_sulfur_dioxide', 'density',\n",
            "       'pH', 'sulphates', 'alcohol', 'quality'],\n",
            "      dtype='object')\n"
          ],
          "name": "stdout"
        }
      ]
    },
    {
      "cell_type": "markdown",
      "metadata": {
        "id": "wnEFMEFQHYef",
        "colab_type": "text"
      },
      "source": [
        "**Better way of renaming columns of this dataset**"
      ]
    },
    {
      "cell_type": "code",
      "metadata": {
        "id": "k5li8JKMHfyN",
        "colab_type": "code",
        "colab": {}
      },
      "source": [
        "'''\n",
        "labels = list(df.columns)\n",
        "\n",
        "for i in range(len(labels)):\n",
        "    labels[i] = labels[i].replace(\" \", \"_\")\n",
        "\n",
        "df.columns = labels\n",
        "print(df.columns)   \n",
        "'''\n",
        "df.columns = [label.replace(\" \", \"_\") for label in df.columns]"
      ],
      "execution_count": 0,
      "outputs": []
    },
    {
      "cell_type": "markdown",
      "metadata": {
        "id": "NKeflYpa681i",
        "colab_type": "text"
      },
      "source": [
        "**Analysing features**"
      ]
    },
    {
      "cell_type": "code",
      "metadata": {
        "id": "xNfDR2ADJL1t",
        "colab_type": "code",
        "outputId": "ea4bdc40-277e-4649-948e-d7fc12541d8d",
        "colab": {
          "base_uri": "https://localhost:8080/",
          "height": 54
        }
      },
      "source": [
        "'''\n",
        "median_alcohol = df.alcohol.median()\n",
        "for i, alcohol in enumerate(df.alcohol):\n",
        "    if alcohol >= median_alcohol:\n",
        "        df.loc[i, 'alcohol'] = \"high\"\n",
        "    else:\n",
        "        df.loc[i, 'alcohol'] = \"low\"    \n",
        "\n",
        "df.groupby('alcohol').quality.mean()\n",
        "'''"
      ],
      "execution_count": 41,
      "outputs": [
        {
          "output_type": "execute_result",
          "data": {
            "text/plain": [
              "'\\nmedian_alcohol = df.alcohol.median()\\nfor i, alcohol in enumerate(df.alcohol):\\n    if alcohol >= median_alcohol:\\n        df.loc[i, \\'alcohol\\'] = \"high\"\\n    else:\\n        df.loc[i, \\'alcohol\\'] = \"low\"    \\n\\ndf.groupby(\\'alcohol\\').quality.mean()\\n'"
            ]
          },
          "metadata": {
            "tags": []
          },
          "execution_count": 41
        }
      ]
    },
    {
      "cell_type": "code",
      "metadata": {
        "id": "Tadga0j993iI",
        "colab_type": "code",
        "colab": {
          "base_uri": "https://localhost:8080/",
          "height": 54
        },
        "outputId": "ba7472e7-8e10-495a-d436-ae88c2223473"
      },
      "source": [
        "'''\n",
        "median_pH = df.pH.median()\n",
        "for i, pH in enumerate(df.pH):\n",
        "    if pH >= median_pH:\n",
        "        df.loc[i, 'pH'] = 'high'\n",
        "    else:\n",
        "        df.loc[i, 'pH'] = 'low'\n",
        "df.groupby('pH').quality.mean()\n",
        "'''"
      ],
      "execution_count": 42,
      "outputs": [
        {
          "output_type": "execute_result",
          "data": {
            "text/plain": [
              "\"\\nmedian_pH = df.pH.median()\\nfor i, pH in enumerate(df.pH):\\n    if pH >= median_pH:\\n        df.loc[i, 'pH'] = 'high'\\n    else:\\n        df.loc[i, 'pH'] = 'low'\\ndf.groupby('pH').quality.mean()\\n\""
            ]
          },
          "metadata": {
            "tags": []
          },
          "execution_count": 42
        }
      ]
    },
    {
      "cell_type": "markdown",
      "metadata": {
        "id": "U0hO-Cc-988n",
        "colab_type": "text"
      },
      "source": [
        "**Finding out `mean` for each feature is getting repetitive. So now lets make it modular so that it can be used to calculate mean by just passing feature as an argument.**"
      ]
    },
    {
      "cell_type": "code",
      "metadata": {
        "id": "xFOFizsE-kRe",
        "colab_type": "code",
        "colab": {
          "base_uri": "https://localhost:8080/",
          "height": 941
        },
        "outputId": "ebb94051-79ce-43f0-b107-c4d6f4b41fce"
      },
      "source": [
        "def calculate_mean(df, column_name):\n",
        "    median = df[column_name].median()\n",
        "    for i, column_value in enumerate(df[column_name]):\n",
        "        if column_value >= median:\n",
        "            df.loc[i, column_name] = \"high\"\n",
        "        else:\n",
        "            df.loc[i, column_name] = \"low\"\n",
        "\n",
        "\n",
        "for feature in df.columns[:-1]:\n",
        "    calculate_mean(df, feature)\n",
        "    print(df.groupby(feature).quality.mean(), \"\\n\")"
      ],
      "execution_count": 43,
      "outputs": [
        {
          "output_type": "stream",
          "text": [
            "fixed_acidity\n",
            "high    5.726061\n",
            "low     5.540052\n",
            "Name: quality, dtype: float64 \n",
            "\n",
            "volatile_acidity\n",
            "high    5.392157\n",
            "low     5.890166\n",
            "Name: quality, dtype: float64 \n",
            "\n",
            "citric_acid\n",
            "high    5.822360\n",
            "low     5.447103\n",
            "Name: quality, dtype: float64 \n",
            "\n",
            "residual_sugar\n",
            "high    5.665880\n",
            "low     5.602394\n",
            "Name: quality, dtype: float64 \n",
            "\n",
            "chlorides\n",
            "high    5.507194\n",
            "low     5.776471\n",
            "Name: quality, dtype: float64 \n",
            "\n",
            "free_sulfur_dioxide\n",
            "high    5.595268\n",
            "low     5.677136\n",
            "Name: quality, dtype: float64 \n",
            "\n",
            "total_sulfur_dioxide\n",
            "high    5.522981\n",
            "low     5.750630\n",
            "Name: quality, dtype: float64 \n",
            "\n",
            "density\n",
            "high    5.540574\n",
            "low     5.731830\n",
            "Name: quality, dtype: float64 \n",
            "\n",
            "pH\n",
            "high    5.598039\n",
            "low     5.675607\n",
            "Name: quality, dtype: float64 \n",
            "\n",
            "sulphates\n",
            "high    5.898917\n",
            "low     5.351562\n",
            "Name: quality, dtype: float64 \n",
            "\n",
            "alcohol\n",
            "high    5.958904\n",
            "low     5.310302\n",
            "Name: quality, dtype: float64 \n",
            "\n"
          ],
          "name": "stdout"
        }
      ]
    }
  ]
}