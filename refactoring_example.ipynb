{
  "nbformat": 4,
  "nbformat_minor": 0,
  "metadata": {
    "colab": {
      "name": "refactoring-example.ipynb",
      "provenance": [],
      "collapsed_sections": [],
      "authorship_tag": "ABX9TyMUf0PeOPbc9Ng7CmJFqI+3",
      "include_colab_link": true
    },
    "kernelspec": {
      "name": "python3",
      "display_name": "Python 3"
    }
  },
  "cells": [
    {
      "cell_type": "markdown",
      "metadata": {
        "id": "view-in-github",
        "colab_type": "text"
      },
      "source": [
        "<a href=\"https://colab.research.google.com/github/Raghavendarlokineni/colab-machine-learning/blob/develop/refactoring_example.ipynb\" target=\"_parent\"><img src=\"https://colab.research.google.com/assets/colab-badge.svg\" alt=\"Open In Colab\"/></a>"
      ]
    },
    {
      "cell_type": "markdown",
      "metadata": {
        "id": "c1eUz42mEg_z",
        "colab_type": "text"
      },
      "source": [
        "\n",
        "\n",
        "```\n",
        "# This is an exercise from Udacity program\n",
        "```\n",
        "\n"
      ]
    },
    {
      "cell_type": "code",
      "metadata": {
        "id": "xPcqvKReDihB",
        "colab_type": "code",
        "outputId": "c848ebb2-b1e5-421b-a67c-a436355528ac",
        "colab": {
          "base_uri": "https://localhost:8080/",
          "height": 151
        }
      },
      "source": [
        "import pandas as pd\n",
        "df = pd.read_csv(\"https://archive.ics.uci.edu/ml/machine-learning-databases/wine-quality/winequality-red.csv\", sep=\";\")\n",
        "\n",
        "print(df.head())"
      ],
      "execution_count": 75,
      "outputs": [
        {
          "output_type": "stream",
          "text": [
            "   fixed acidity  volatile acidity  citric acid  ...  sulphates  alcohol  quality\n",
            "0            7.4              0.70         0.00  ...       0.56      9.4        5\n",
            "1            7.8              0.88         0.00  ...       0.68      9.8        5\n",
            "2            7.8              0.76         0.04  ...       0.65      9.8        5\n",
            "3           11.2              0.28         0.56  ...       0.58      9.8        6\n",
            "4            7.4              0.70         0.00  ...       0.56      9.4        5\n",
            "\n",
            "[5 rows x 12 columns]\n"
          ],
          "name": "stdout"
        }
      ]
    },
    {
      "cell_type": "markdown",
      "metadata": {
        "id": "UFInZBtdE2a_",
        "colab_type": "text"
      },
      "source": [
        "**Renaming columns manually**"
      ]
    },
    {
      "cell_type": "code",
      "metadata": {
        "id": "_4kEtl9yErmH",
        "colab_type": "code",
        "outputId": "e3f89d2d-a10b-4e17-9aa1-7b7e03b8919d",
        "colab": {
          "base_uri": "https://localhost:8080/",
          "height": 84
        }
      },
      "source": [
        "new_df = df.rename(columns={\n",
        "                             'fixed acidity': 'fixed_acidity',\n",
        "                             'volatile acidity': 'volatile_acidity',\n",
        "                             'citric acid': 'citric_acid',\n",
        "                             'residual sugar': 'residual_sugar',\n",
        "                             'free sulfur dioxide': 'free_sulfur_dioxide',\n",
        "                             'total sulfur dioxide': 'total_sulfur_dioxide'\n",
        "})\n",
        "\n",
        "print(new_df.columns)"
      ],
      "execution_count": 76,
      "outputs": [
        {
          "output_type": "stream",
          "text": [
            "Index(['fixed_acidity', 'volatile_acidity', 'citric_acid', 'residual_sugar',\n",
            "       'chlorides', 'free_sulfur_dioxide', 'total_sulfur_dioxide', 'density',\n",
            "       'pH', 'sulphates', 'alcohol', 'quality'],\n",
            "      dtype='object')\n"
          ],
          "name": "stdout"
        }
      ]
    },
    {
      "cell_type": "markdown",
      "metadata": {
        "id": "KdASPecQFOOG",
        "colab_type": "text"
      },
      "source": [
        "another way of doing this"
      ]
    },
    {
      "cell_type": "code",
      "metadata": {
        "id": "KIXzKymPFRIG",
        "colab_type": "code",
        "outputId": "3af703e6-2414-4e80-e93b-8bcab8eb78f5",
        "colab": {
          "base_uri": "https://localhost:8080/",
          "height": 84
        }
      },
      "source": [
        "labels = list(df.columns)\n",
        "labels[0] = labels[0].replace(\" \", \"_\")\n",
        "labels[1] = labels[1].replace(\" \", \"_\")\n",
        "labels[2] = labels[2].replace(\" \", \"_\")\n",
        "labels[3] = labels[3].replace(\" \", \"_\")\n",
        "labels[4] = labels[4].replace(\" \", \"_\")\n",
        "labels[5] = labels[5].replace(\" \", \"_\")\n",
        "labels[6] = labels[6].replace(\" \", \"_\")\n",
        "df.columns = labels\n",
        "\n",
        "print(df.columns)\n"
      ],
      "execution_count": 77,
      "outputs": [
        {
          "output_type": "stream",
          "text": [
            "Index(['fixed_acidity', 'volatile_acidity', 'citric_acid', 'residual_sugar',\n",
            "       'chlorides', 'free_sulfur_dioxide', 'total_sulfur_dioxide', 'density',\n",
            "       'pH', 'sulphates', 'alcohol', 'quality'],\n",
            "      dtype='object')\n"
          ],
          "name": "stdout"
        }
      ]
    },
    {
      "cell_type": "markdown",
      "metadata": {
        "id": "wnEFMEFQHYef",
        "colab_type": "text"
      },
      "source": [
        "**Better way of renaming columns of this dataset**"
      ]
    },
    {
      "cell_type": "code",
      "metadata": {
        "id": "k5li8JKMHfyN",
        "colab_type": "code",
        "colab": {}
      },
      "source": [
        "'''\n",
        "labels = list(df.columns)\n",
        "\n",
        "for i in range(len(labels)):\n",
        "    labels[i] = labels[i].replace(\" \", \"_\")\n",
        "\n",
        "df.columns = labels\n",
        "print(df.columns)   \n",
        "'''\n",
        "df.columns = [label.replace(\" \", \"_\") for label in df.columns]"
      ],
      "execution_count": 0,
      "outputs": []
    },
    {
      "cell_type": "markdown",
      "metadata": {
        "id": "NKeflYpa681i",
        "colab_type": "text"
      },
      "source": [
        "**Analysing features**"
      ]
    },
    {
      "cell_type": "code",
      "metadata": {
        "id": "xNfDR2ADJL1t",
        "colab_type": "code",
        "outputId": "42ea322f-be33-45ec-86ae-0bb31f0aa611",
        "colab": {
          "base_uri": "https://localhost:8080/",
          "height": 84
        }
      },
      "source": [
        "median_alcohol = df.alcohol.median()\n",
        "for i, alcohol in enumerate(df.alcohol):\n",
        "    if alcohol >= median_alcohol:\n",
        "        df.loc[i, 'alcohol'] = \"high\"\n",
        "    else:\n",
        "        df.loc[i, 'alcohol'] = \"low\"    \n",
        "\n",
        "df.groupby('alcohol').quality.mean()"
      ],
      "execution_count": 79,
      "outputs": [
        {
          "output_type": "execute_result",
          "data": {
            "text/plain": [
              "alcohol\n",
              "high    5.958904\n",
              "low     5.310302\n",
              "Name: quality, dtype: float64"
            ]
          },
          "metadata": {
            "tags": []
          },
          "execution_count": 79
        }
      ]
    },
    {
      "cell_type": "code",
      "metadata": {
        "id": "Tadga0j993iI",
        "colab_type": "code",
        "colab": {
          "base_uri": "https://localhost:8080/",
          "height": 84
        },
        "outputId": "69021887-25f9-4895-c5ac-17f806a03b35"
      },
      "source": [
        "median_pH = df.pH.median()\n",
        "for i, pH in enumerate(df.pH):\n",
        "    if pH >= median_pH:\n",
        "        df.loc[i, 'pH'] = 'high'\n",
        "    else:\n",
        "        df.loc[i, 'pH'] = 'low'\n",
        "df.groupby('pH').quality.mean()"
      ],
      "execution_count": 80,
      "outputs": [
        {
          "output_type": "execute_result",
          "data": {
            "text/plain": [
              "pH\n",
              "high    5.598039\n",
              "low     5.675607\n",
              "Name: quality, dtype: float64"
            ]
          },
          "metadata": {
            "tags": []
          },
          "execution_count": 80
        }
      ]
    },
    {
      "cell_type": "markdown",
      "metadata": {
        "id": "U0hO-Cc-988n",
        "colab_type": "text"
      },
      "source": [
        "**Finding out `mean` for each feature is getting repetitive. So now lets make it modular so that it can be used to calculate mean by just passing feature as an argument.**"
      ]
    },
    {
      "cell_type": "code",
      "metadata": {
        "id": "xFOFizsE-kRe",
        "colab_type": "code",
        "colab": {}
      },
      "source": [
        "def calculate_mean(df, label):\n",
        "    median_label = df.\n",
        " "
      ],
      "execution_count": 0,
      "outputs": []
    }
  ]
}