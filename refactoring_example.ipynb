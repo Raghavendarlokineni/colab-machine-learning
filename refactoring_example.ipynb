{
  "nbformat": 4,
  "nbformat_minor": 0,
  "metadata": {
    "colab": {
      "name": "refactoring-example.ipynb",
      "provenance": [],
      "authorship_tag": "ABX9TyOFiM4bES3sIob3+KF/NTo5",
      "include_colab_link": true
    },
    "kernelspec": {
      "name": "python3",
      "display_name": "Python 3"
    }
  },
  "cells": [
    {
      "cell_type": "markdown",
      "metadata": {
        "id": "view-in-github",
        "colab_type": "text"
      },
      "source": [
        "<a href=\"https://colab.research.google.com/github/Raghavendarlokineni/colab-machine-learning/blob/develop/refactoring_example.ipynb\" target=\"_parent\"><img src=\"https://colab.research.google.com/assets/colab-badge.svg\" alt=\"Open In Colab\"/></a>"
      ]
    },
    {
      "cell_type": "markdown",
      "metadata": {
        "id": "c1eUz42mEg_z",
        "colab_type": "text"
      },
      "source": [
        "\n",
        "\n",
        "```\n",
        "# This is an exercise from Udacity program\n",
        "```\n",
        "\n"
      ]
    },
    {
      "cell_type": "code",
      "metadata": {
        "id": "xPcqvKReDihB",
        "colab_type": "code",
        "colab": {
          "base_uri": "https://localhost:8080/",
          "height": 151
        },
        "outputId": "fb2a01a7-dc4c-441a-ab2f-b3d29fa4fbfb"
      },
      "source": [
        "import pandas as pd\n",
        "df = pd.read_csv(\"https://archive.ics.uci.edu/ml/machine-learning-databases/wine-quality/winequality-red.csv\", sep=\";\")\n",
        "\n",
        "print(df.head())"
      ],
      "execution_count": 1,
      "outputs": [
        {
          "output_type": "stream",
          "text": [
            "   fixed acidity  volatile acidity  citric acid  ...  sulphates  alcohol  quality\n",
            "0            7.4              0.70         0.00  ...       0.56      9.4        5\n",
            "1            7.8              0.88         0.00  ...       0.68      9.8        5\n",
            "2            7.8              0.76         0.04  ...       0.65      9.8        5\n",
            "3           11.2              0.28         0.56  ...       0.58      9.8        6\n",
            "4            7.4              0.70         0.00  ...       0.56      9.4        5\n",
            "\n",
            "[5 rows x 12 columns]\n"
          ],
          "name": "stdout"
        }
      ]
    },
    {
      "cell_type": "markdown",
      "metadata": {
        "id": "UFInZBtdE2a_",
        "colab_type": "text"
      },
      "source": [
        "**Renaming columns manually**"
      ]
    },
    {
      "cell_type": "code",
      "metadata": {
        "id": "_4kEtl9yErmH",
        "colab_type": "code",
        "colab": {
          "base_uri": "https://localhost:8080/",
          "height": 84
        },
        "outputId": "99442a01-edcc-4265-ee15-75183b60fac3"
      },
      "source": [
        "new_df = df.rename(columns={\n",
        "                             'fixed acidity': 'fixed_acidity',\n",
        "                             'volatile acidity': 'volatile_acidity',\n",
        "                             'citric acid': 'citric_acid',\n",
        "                             'residual sugar': 'residual_sugar',\n",
        "                             'free sulfur dioxide': 'free_sulfur_dioxide',\n",
        "                             'total sulfur dioxide': 'total_sulfur_dioxide'\n",
        "})\n",
        "\n",
        "print(new_df.columns)"
      ],
      "execution_count": 6,
      "outputs": [
        {
          "output_type": "stream",
          "text": [
            "Index(['fixed-acidity', 'volatile-acidity', 'citric-acid', 'residual-sugar',\n",
            "       'chlorides', 'free-sulfur-dioxide', 'total-sulfur-dioxide', 'density',\n",
            "       'pH', 'sulphates', 'alcohol', 'quality'],\n",
            "      dtype='object')\n"
          ],
          "name": "stdout"
        }
      ]
    },
    {
      "cell_type": "markdown",
      "metadata": {
        "id": "KdASPecQFOOG",
        "colab_type": "text"
      },
      "source": [
        "another way of doing this"
      ]
    },
    {
      "cell_type": "code",
      "metadata": {
        "id": "KIXzKymPFRIG",
        "colab_type": "code",
        "colab": {
          "base_uri": "https://localhost:8080/",
          "height": 121
        },
        "outputId": "6f52418b-1bc1-4c96-b0bf-3d8ff2dbc834"
      },
      "source": [
        "labels = list(df.columns)\n",
        "labels[0] = labels[0].replace(\" \", \"-\")\n",
        "labels[1] = labels[1].replace(\" \", \"-\")\n",
        "labels[2] = labels[2].replace(\" \", \"-\")\n",
        "labels[3] = labels[3].replace(\" \", \"-\")\n",
        "labels[4] = labels[4].replace(\" \", \"-\")\n",
        "labels[5] = labels[5].replace(\" \", \"-\")\n",
        "labels[6] = labels[6].replace(\" \", \"-\")\n",
        "df.columns = labels\n",
        "\n",
        "print(df.columns)\n"
      ],
      "execution_count": 5,
      "outputs": [
        {
          "output_type": "stream",
          "text": [
            "['fixed acidity', 'volatile acidity', 'citric acid', 'residual sugar', 'chlorides', 'free sulfur dioxide', 'total sulfur dioxide', 'density', 'pH', 'sulphates', 'alcohol', 'quality']\n",
            "Index(['fixed-acidity', 'volatile-acidity', 'citric-acid', 'residual-sugar',\n",
            "       'chlorides', 'free-sulfur-dioxide', 'total-sulfur-dioxide', 'density',\n",
            "       'pH', 'sulphates', 'alcohol', 'quality'],\n",
            "      dtype='object')\n"
          ],
          "name": "stdout"
        }
      ]
    },
    {
      "cell_type": "markdown",
      "metadata": {
        "id": "wnEFMEFQHYef",
        "colab_type": "text"
      },
      "source": [
        "**Better way of renaming columns of this dataset**"
      ]
    },
    {
      "cell_type": "code",
      "metadata": {
        "id": "k5li8JKMHfyN",
        "colab_type": "code",
        "colab": {
          "base_uri": "https://localhost:8080/",
          "height": 54
        },
        "outputId": "9f22ed44-8564-4731-a64e-59f70a91b423"
      },
      "source": [
        "labels = list(df.columns)\n",
        "\n",
        "for i in range(len(labels)):\n",
        "    labels[i] = labels[i].replace(\" \", \"-\")\n",
        "\n",
        "df.columns = labels   \n"
      ],
      "execution_count": 9,
      "outputs": [
        {
          "output_type": "stream",
          "text": [
            "['fixed-acidity', 'volatile-acidity', 'citric-acid', 'residual-sugar', 'chlorides', 'free-sulfur-dioxide', 'total-sulfur-dioxide', 'density', 'pH', 'sulphates', 'alcohol', 'quality']\n"
          ],
          "name": "stdout"
        }
      ]
    }
  ]
}