{
  "nbformat": 4,
  "nbformat_minor": 0,
  "metadata": {
    "colab": {
      "name": "first-model-tensorflow.ipynb",
      "provenance": [],
      "authorship_tag": "ABX9TyMDEwOgrmDt2FaOB48Dc+AU",
      "include_colab_link": true
    },
    "kernelspec": {
      "name": "python3",
      "display_name": "Python 3"
    }
  },
  "cells": [
    {
      "cell_type": "markdown",
      "metadata": {
        "id": "view-in-github",
        "colab_type": "text"
      },
      "source": [
        "<a href=\"https://colab.research.google.com/github/Raghavendarlokineni/colab-machine-learning/blob/develop/first_model_tensorflow.ipynb\" target=\"_parent\"><img src=\"https://colab.research.google.com/assets/colab-badge.svg\" alt=\"Open In Colab\"/></a>"
      ]
    },
    {
      "cell_type": "markdown",
      "metadata": {
        "id": "ob1YY2mGER03",
        "colab_type": "text"
      },
      "source": [
        ""
      ]
    },
    {
      "cell_type": "markdown",
      "metadata": {
        "id": "OP84hQhBETck",
        "colab_type": "text"
      },
      "source": [
        "**First tensorflow exercise. Creating first machine learned model**"
      ]
    },
    {
      "cell_type": "code",
      "metadata": {
        "id": "xNSa0cAEEmSz",
        "colab_type": "code",
        "outputId": "f0372198-50f9-48a0-a17a-0031427db486",
        "colab": {
          "base_uri": "https://localhost:8080/",
          "height": 34
        }
      },
      "source": [
        "%tensorflow_version 2.x\n",
        "import tensorflow as tf\n",
        "import numpy as np\n",
        "from tensorflow import keras\n",
        "\n",
        "print(tf.version)"
      ],
      "execution_count": 1,
      "outputs": [
        {
          "output_type": "stream",
          "text": [
            "<module 'tensorflow._api.v2.version' from '/usr/local/lib/python3.6/dist-packages/tensorflow/_api/v2/version/__init__.py'>\n"
          ],
          "name": "stdout"
        }
      ]
    },
    {
      "cell_type": "markdown",
      "metadata": {
        "id": "EvnubfO9LCCS",
        "colab_type": "text"
      },
      "source": [
        "**Define and compile neural network**"
      ]
    },
    {
      "cell_type": "code",
      "metadata": {
        "id": "9I3JfScCLHAI",
        "colab_type": "code",
        "colab": {}
      },
      "source": [
        "model = tf.keras.Sequential([keras.layers.Dense(units=1, input_shape=[1])])"
      ],
      "execution_count": 0,
      "outputs": []
    },
    {
      "cell_type": "code",
      "metadata": {
        "id": "QBRtLtkGBhRs",
        "colab_type": "code",
        "colab": {}
      },
      "source": [
        "model.compile(optimizer=\"sgd\", loss=\"mean_squared_error\")"
      ],
      "execution_count": 0,
      "outputs": []
    },
    {
      "cell_type": "markdown",
      "metadata": {
        "id": "fmS5bxluB5XD",
        "colab_type": "text"
      },
      "source": [
        "**Providing the data**"
      ]
    },
    {
      "cell_type": "code",
      "metadata": {
        "id": "4MJHnCIdB88u",
        "colab_type": "code",
        "colab": {}
      },
      "source": [
        "xval = np.array([-1.0, 0.0, 1.0, 2.0, 3.0, 4.0], dtype=float)\n",
        "yval = np.array([-2.0, 1.0, 4.0, 7.0, 10.0, 13.0], dtype=float) "
      ],
      "execution_count": 0,
      "outputs": []
    },
    {
      "cell_type": "markdown",
      "metadata": {
        "id": "VvDJR3KLC4NM",
        "colab_type": "text"
      },
      "source": [
        "**Training the neural network**"
      ]
    },
    {
      "cell_type": "code",
      "metadata": {
        "id": "s0DEy0KqEvl1",
        "colab_type": "code",
        "colab": {
          "base_uri": "https://localhost:8080/",
          "height": 50
        },
        "outputId": "bb14c94a-fd23-452f-f464-3df87c8f2e42"
      },
      "source": [
        "model.fit(xval, yval, epochs=1)"
      ],
      "execution_count": 5,
      "outputs": [
        {
          "output_type": "stream",
          "text": [
            "1/1 [==============================] - 0s 1ms/step - loss: 116.0080\n"
          ],
          "name": "stdout"
        },
        {
          "output_type": "execute_result",
          "data": {
            "text/plain": [
              "<tensorflow.python.keras.callbacks.History at 0x7eff69360630>"
            ]
          },
          "metadata": {
            "tags": []
          },
          "execution_count": 5
        }
      ]
    },
    {
      "cell_type": "markdown",
      "metadata": {
        "id": "3JPAg-FBFLH0",
        "colab_type": "text"
      },
      "source": [
        "**use the model to predict the known values**"
      ]
    },
    {
      "cell_type": "code",
      "metadata": {
        "id": "20zphxtiF5lm",
        "colab_type": "code",
        "outputId": "0e4ad423-802d-4bb3-c5bb-2e028e8efc54",
        "colab": {
          "base_uri": "https://localhost:8080/",
          "height": 34
        }
      },
      "source": [
        "print(model.predict([15]))"
      ],
      "execution_count": 6,
      "outputs": [
        {
          "output_type": "stream",
          "text": [
            "[[-14.069308]]\n"
          ],
          "name": "stdout"
        }
      ]
    },
    {
      "cell_type": "markdown",
      "metadata": {
        "id": "Y6w0uHCXEQNQ",
        "colab_type": "text"
      },
      "source": [
        "**lets provide more data, adding more data will provide more closer results with less no of epochs**"
      ]
    },
    {
      "cell_type": "code",
      "metadata": {
        "id": "dW0E9--gEPoB",
        "colab_type": "code",
        "colab": {}
      },
      "source": [
        "xval_more = np.array([-1.0, 0.0, 1.0, 2.0, 3.0, 4.0, 5.0,6.0, 7.0, 8.0, 9.0, 10.0,11.0,12.0], dtype=float)\n",
        "yval_more = np.array([-2.0, 1.0, 4.0, 7.0, 10.0, 13.0, 16.0, 19.0, 22.0, 25.0, 28.0, 31.0, 34.0, 37.0], dtype=float) "
      ],
      "execution_count": 0,
      "outputs": []
    },
    {
      "cell_type": "code",
      "metadata": {
        "id": "YP300l9XFbk2",
        "colab_type": "code",
        "colab": {
          "base_uri": "https://localhost:8080/",
          "height": 50
        },
        "outputId": "036b7c9f-3200-4b02-fb63-59ebb8e18293"
      },
      "source": [
        "model.fit(xval_more, yval_more, epochs=1)"
      ],
      "execution_count": 8,
      "outputs": [
        {
          "output_type": "stream",
          "text": [
            "1/1 [==============================] - 0s 1ms/step - loss: 762.3386\n"
          ],
          "name": "stdout"
        },
        {
          "output_type": "execute_result",
          "data": {
            "text/plain": [
              "<tensorflow.python.keras.callbacks.History at 0x7eff6651c588>"
            ]
          },
          "metadata": {
            "tags": []
          },
          "execution_count": 8
        }
      ]
    },
    {
      "cell_type": "code",
      "metadata": {
        "id": "Nn9JOhN8Fkj3",
        "colab_type": "code",
        "colab": {
          "base_uri": "https://localhost:8080/",
          "height": 34
        },
        "outputId": "24bff7d0-83aa-4553-ade7-21af98482fdb"
      },
      "source": [
        "print(model.predict([13]))"
      ],
      "execution_count": 10,
      "outputs": [
        {
          "output_type": "stream",
          "text": [
            "[[37.222584]]\n"
          ],
          "name": "stdout"
        }
      ]
    },
    {
      "cell_type": "markdown",
      "metadata": {
        "id": "NjjInmRqJH6T",
        "colab_type": "text"
      },
      "source": [
        "**to increase the accuray of model, lets increase the number of epochs**"
      ]
    },
    {
      "cell_type": "code",
      "metadata": {
        "id": "F3nvrMwjJQTK",
        "colab_type": "code",
        "colab": {}
      },
      "source": [
        "model.fit(xval_more, yval_more, epochs=1000)\n"
      ],
      "execution_count": 0,
      "outputs": []
    },
    {
      "cell_type": "code",
      "metadata": {
        "id": "CVQd2kyPJbnm",
        "colab_type": "code",
        "colab": {
          "base_uri": "https://localhost:8080/",
          "height": 34
        },
        "outputId": "41fe9e80-05af-4d9b-d70b-4e29b9b7664b"
      },
      "source": [
        "print(model.predict([13]))"
      ],
      "execution_count": 18,
      "outputs": [
        {
          "output_type": "stream",
          "text": [
            "[[40.000004]]\n"
          ],
          "name": "stdout"
        }
      ]
    }
  ]
}