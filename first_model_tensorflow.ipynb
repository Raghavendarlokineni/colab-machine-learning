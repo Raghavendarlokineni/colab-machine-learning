{
  "nbformat": 4,
  "nbformat_minor": 0,
  "metadata": {
    "colab": {
      "name": "first-model-tensorflow.ipynb",
      "provenance": [],
      "authorship_tag": "ABX9TyMAwbP1gs/hMyMS8QeJoFIM",
      "include_colab_link": true
    },
    "kernelspec": {
      "name": "python3",
      "display_name": "Python 3"
    }
  },
  "cells": [
    {
      "cell_type": "markdown",
      "metadata": {
        "id": "view-in-github",
        "colab_type": "text"
      },
      "source": [
        "<a href=\"https://colab.research.google.com/github/Raghavendarlokineni/colab-machine-learning/blob/develop/first_model_tensorflow.ipynb\" target=\"_parent\"><img src=\"https://colab.research.google.com/assets/colab-badge.svg\" alt=\"Open In Colab\"/></a>"
      ]
    },
    {
      "cell_type": "markdown",
      "metadata": {
        "id": "ob1YY2mGER03",
        "colab_type": "text"
      },
      "source": [
        ""
      ]
    },
    {
      "cell_type": "markdown",
      "metadata": {
        "id": "OP84hQhBETck",
        "colab_type": "text"
      },
      "source": [
        "**First tensorflow exercise. Creating first machine learned model**"
      ]
    },
    {
      "cell_type": "code",
      "metadata": {
        "id": "xNSa0cAEEmSz",
        "colab_type": "code",
        "colab": {
          "base_uri": "https://localhost:8080/",
          "height": 34
        },
        "outputId": "0524e358-a34d-4168-ae0f-05ce56048932"
      },
      "source": [
        "%tensorflow_version 2.x\n",
        "import tensorflow as tf\n",
        "import numpy as np\n",
        "from tensorflow import keras\n",
        "\n",
        "print(tf.version)"
      ],
      "execution_count": 2,
      "outputs": [
        {
          "output_type": "stream",
          "text": [
            "<module 'tensorflow._api.v2.version' from '/usr/local/lib/python3.6/dist-packages/tensorflow/_api/v2/version/__init__.py'>\n"
          ],
          "name": "stdout"
        }
      ]
    },
    {
      "cell_type": "markdown",
      "metadata": {
        "id": "EvnubfO9LCCS",
        "colab_type": "text"
      },
      "source": [
        "**Define and compile neural network**"
      ]
    },
    {
      "cell_type": "code",
      "metadata": {
        "id": "9I3JfScCLHAI",
        "colab_type": "code",
        "colab": {}
      },
      "source": [
        "model = tf.keras.Sequential([keras.layers.Dense(units=1, input_shape=[1])])"
      ],
      "execution_count": 0,
      "outputs": []
    },
    {
      "cell_type": "code",
      "metadata": {
        "id": "QBRtLtkGBhRs",
        "colab_type": "code",
        "colab": {}
      },
      "source": [
        "model.compile(optimizer=\"sgd\", loss=\"mean_squared_error\")"
      ],
      "execution_count": 0,
      "outputs": []
    },
    {
      "cell_type": "markdown",
      "metadata": {
        "id": "fmS5bxluB5XD",
        "colab_type": "text"
      },
      "source": [
        "**Providing the data**"
      ]
    },
    {
      "cell_type": "code",
      "metadata": {
        "id": "4MJHnCIdB88u",
        "colab_type": "code",
        "colab": {}
      },
      "source": [
        "xval = np.array([-1.0, 0.0, 1.0, 2.0, 3.0, 4.0]), "
      ],
      "execution_count": 0,
      "outputs": []
    }
  ]
}