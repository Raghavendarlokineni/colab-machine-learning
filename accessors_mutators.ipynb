{
  "nbformat": 4,
  "nbformat_minor": 0,
  "metadata": {
    "colab": {
      "name": "accessors_mutators.ipynb",
      "provenance": [],
      "authorship_tag": "ABX9TyPeBRDdf8QsSKp8euxXnfPd",
      "include_colab_link": true
    },
    "kernelspec": {
      "name": "python3",
      "display_name": "Python 3"
    }
  },
  "cells": [
    {
      "cell_type": "markdown",
      "metadata": {
        "id": "view-in-github",
        "colab_type": "text"
      },
      "source": [
        "<a href=\"https://colab.research.google.com/github/Raghavendarlokineni/colab-machine-learning/blob/develop/accessors_mutators.ipynb\" target=\"_parent\"><img src=\"https://colab.research.google.com/assets/colab-badge.svg\" alt=\"Open In Colab\"/></a>"
      ]
    },
    {
      "cell_type": "markdown",
      "metadata": {
        "id": "SI6QLAyHYBJS",
        "colab_type": "text"
      },
      "source": [
        "**Setters and Getters**\n",
        "\n",
        "```\n",
        "reference - https://www.python-course.eu/python3_properties.php \n",
        "```\n"
      ]
    },
    {
      "cell_type": "code",
      "metadata": {
        "id": "kXISsmxFYT85",
        "colab_type": "code",
        "colab": {}
      },
      "source": [
        "class P:\n",
        "\n",
        "    def __init__(self, x):\n",
        "        self.__x = x\n",
        "        self.y = x\n",
        "\n",
        "    def get_x(self):\n",
        "        return self.__x\n",
        "\n",
        "    def set_x(self, x):\n",
        "        self.__x = x    "
      ],
      "execution_count": 0,
      "outputs": []
    },
    {
      "cell_type": "code",
      "metadata": {
        "id": "hei1t_l1X_dt",
        "colab_type": "code",
        "colab": {
          "base_uri": "https://localhost:8080/",
          "height": 50
        },
        "outputId": "a2b5bf38-4de1-4125-f8d6-8328ae51e901"
      },
      "source": [
        "p1 = P(12)\n",
        "p2 = P(100)\n",
        "print(p1.get_x())\n",
        "print(p2.y)"
      ],
      "execution_count": 2,
      "outputs": [
        {
          "output_type": "stream",
          "text": [
            "12\n",
            "100\n"
          ],
          "name": "stdout"
        }
      ]
    },
    {
      "cell_type": "markdown",
      "metadata": {
        "id": "s40WKLaFFb_p",
        "colab_type": "text"
      },
      "source": [
        "**encapsulation and usage of properties**"
      ]
    },
    {
      "cell_type": "code",
      "metadata": {
        "id": "_efgn6ixFgvN",
        "colab_type": "code",
        "colab": {}
      },
      "source": [
        "class P:\n",
        "\n",
        "    def __init__(self, x):\n",
        "        self.x = x\n",
        "\n",
        "    def x(self):\n",
        "        return self.__x"
      ],
      "execution_count": 0,
      "outputs": []
    },
    {
      "cell_type": "code",
      "metadata": {
        "id": "fEaMbfHRGKHv",
        "colab_type": "code",
        "colab": {
          "base_uri": "https://localhost:8080/",
          "height": 34
        },
        "outputId": "eb3bc299-ca27-4566-c02f-aa22718949c8"
      },
      "source": [
        "a = P(1)\n",
        "print(a.x)"
      ],
      "execution_count": 5,
      "outputs": [
        {
          "output_type": "stream",
          "text": [
            "1\n"
          ],
          "name": "stdout"
        }
      ]
    }
  ]
}