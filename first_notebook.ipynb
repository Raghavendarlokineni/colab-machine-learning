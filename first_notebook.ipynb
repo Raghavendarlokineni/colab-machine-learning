{
  "nbformat": 4,
  "nbformat_minor": 0,
  "metadata": {
    "colab": {
      "name": "first_notebook.ipynb",
      "provenance": [],
      "authorship_tag": "ABX9TyOTFblkg8WIfJRdQ2Iw6xeX",
      "include_colab_link": true
    },
    "kernelspec": {
      "name": "python3",
      "display_name": "Python 3"
    }
  },
  "cells": [
    {
      "cell_type": "markdown",
      "metadata": {
        "id": "view-in-github",
        "colab_type": "text"
      },
      "source": [
        "<a href=\"https://colab.research.google.com/github/Raghavendarlokineni/colab-machine-learning/blob/develop/first_notebook.ipynb\" target=\"_parent\"><img src=\"https://colab.research.google.com/assets/colab-badge.svg\" alt=\"Open In Colab\"/></a>"
      ]
    },
    {
      "cell_type": "code",
      "metadata": {
        "id": "EcOARrbV4RO5",
        "colab_type": "code",
        "outputId": "d2d09605-ad9c-4380-f463-1a17937f9dfa",
        "colab": {
          "base_uri": "https://localhost:8080/",
          "height": 34
        }
      },
      "source": [
        "print(\"hello ishaan\")"
      ],
      "execution_count": 0,
      "outputs": [
        {
          "output_type": "stream",
          "text": [
            "hello ishaan\n"
          ],
          "name": "stdout"
        }
      ]
    },
    {
      "cell_type": "code",
      "metadata": {
        "id": "nRD3KzNo4lUz",
        "colab_type": "code",
        "outputId": "d7da53fb-36be-4e6c-d8ea-4b3e4290fef5",
        "colab": {
          "base_uri": "https://localhost:8080/",
          "height": 353
        }
      },
      "source": [
        "for i in range(100):\n",
        "  if i%5 == 0:\n",
        "    print(i)"
      ],
      "execution_count": 0,
      "outputs": [
        {
          "output_type": "stream",
          "text": [
            "0\n",
            "5\n",
            "10\n",
            "15\n",
            "20\n",
            "25\n",
            "30\n",
            "35\n",
            "40\n",
            "45\n",
            "50\n",
            "55\n",
            "60\n",
            "65\n",
            "70\n",
            "75\n",
            "80\n",
            "85\n",
            "90\n",
            "95\n"
          ],
          "name": "stdout"
        }
      ]
    },
    {
      "cell_type": "code",
      "metadata": {
        "id": "MyauPmeB51Mg",
        "colab_type": "code",
        "outputId": "2e66a116-acb5-4fea-d9ba-dd120e7f0030",
        "colab": {
          "base_uri": "https://localhost:8080/",
          "height": 168
        }
      },
      "source": [
        "import numpy as np\n",
        "\n",
        "a = np.array([1,2])\n",
        "a = np.append(a,3)\n",
        "print(\"current array {}\".format(a))\n",
        "print(\"printing elements\")\n",
        "\n",
        "for i in a:\n",
        "  print(i)\n",
        "\n",
        "print(\"printing elements and index\")\n",
        "for i,e in enumerate(a):\n",
        "  print(\"index {} and element {}\".format(i,e))  "
      ],
      "execution_count": 0,
      "outputs": [
        {
          "output_type": "stream",
          "text": [
            "current array [1 2 3]\n",
            "printing elements\n",
            "1\n",
            "2\n",
            "3\n",
            "printing elements and index\n",
            "index 0 and element 1\n",
            "index 1 and element 2\n",
            "index 2 and element 3\n"
          ],
          "name": "stdout"
        }
      ]
    },
    {
      "cell_type": "code",
      "metadata": {
        "id": "j2KG4tf48wUJ",
        "colab_type": "code",
        "outputId": "6dead335-881f-4457-8dca-4c5a6a679929",
        "colab": {
          "base_uri": "https://localhost:8080/",
          "height": 134
        }
      },
      "source": [
        "ls -ltr sample_data/"
      ],
      "execution_count": 0,
      "outputs": [
        {
          "output_type": "stream",
          "text": [
            "total 55504\n",
            "-rwxr-xr-x 1 root root      930 Jan  1  2000 \u001b[0m\u001b[01;32mREADME.md\u001b[0m*\n",
            "-rwxr-xr-x 1 root root     1697 Jan  1  2000 \u001b[01;32manscombe.json\u001b[0m*\n",
            "-rw-r--r-- 1 root root 36523880 May  4 16:26 mnist_train_small.csv\n",
            "-rw-r--r-- 1 root root 18289443 May  4 16:26 mnist_test.csv\n",
            "-rw-r--r-- 1 root root  1706430 May  4 16:26 california_housing_train.csv\n",
            "-rw-r--r-- 1 root root   301141 May  4 16:26 california_housing_test.csv\n"
          ],
          "name": "stdout"
        }
      ]
    },
    {
      "cell_type": "code",
      "metadata": {
        "id": "6kM2IP80lVKV",
        "colab_type": "code",
        "colab": {
          "base_uri": "https://localhost:8080/",
          "height": 34
        },
        "outputId": "08ac606a-4189-441d-eb4a-e94ba10a10dd"
      },
      "source": [
        "from __future__ import print_function\n",
        "import pandas as pd\n",
        "pd.__version__"
      ],
      "execution_count": 1,
      "outputs": [
        {
          "output_type": "execute_result",
          "data": {
            "text/plain": [
              "'1.0.3'"
            ]
          },
          "metadata": {
            "tags": []
          },
          "execution_count": 1
        }
      ]
    },
    {
      "cell_type": "code",
      "metadata": {
        "id": "SK3acvbOm6O9",
        "colab_type": "code",
        "colab": {
          "base_uri": "https://localhost:8080/",
          "height": 136
        },
        "outputId": "35aa5d54-d230-4bee-dbb9-b8d862bba197"
      },
      "source": [
        "cityNames = pd.Series([\"hyd\", \"bang\", \"Chen\"])\n",
        "population = pd.Series([\"1.5M\", \"2.5M\", \"1.2M\"])\n",
        "\n",
        "pd.DataFrame({\"City Name\" : cityNames, \"Population\" : population})"
      ],
      "execution_count": 2,
      "outputs": [
        {
          "output_type": "execute_result",
          "data": {
            "text/html": [
              "<div>\n",
              "<style scoped>\n",
              "    .dataframe tbody tr th:only-of-type {\n",
              "        vertical-align: middle;\n",
              "    }\n",
              "\n",
              "    .dataframe tbody tr th {\n",
              "        vertical-align: top;\n",
              "    }\n",
              "\n",
              "    .dataframe thead th {\n",
              "        text-align: right;\n",
              "    }\n",
              "</style>\n",
              "<table border=\"1\" class=\"dataframe\">\n",
              "  <thead>\n",
              "    <tr style=\"text-align: right;\">\n",
              "      <th></th>\n",
              "      <th>City Name</th>\n",
              "      <th>Population</th>\n",
              "    </tr>\n",
              "  </thead>\n",
              "  <tbody>\n",
              "    <tr>\n",
              "      <th>0</th>\n",
              "      <td>hyd</td>\n",
              "      <td>1.5M</td>\n",
              "    </tr>\n",
              "    <tr>\n",
              "      <th>1</th>\n",
              "      <td>bang</td>\n",
              "      <td>2.5M</td>\n",
              "    </tr>\n",
              "    <tr>\n",
              "      <th>2</th>\n",
              "      <td>Chen</td>\n",
              "      <td>1.2M</td>\n",
              "    </tr>\n",
              "  </tbody>\n",
              "</table>\n",
              "</div>"
            ],
            "text/plain": [
              "  City Name Population\n",
              "0       hyd       1.5M\n",
              "1      bang       2.5M\n",
              "2      Chen       1.2M"
            ]
          },
          "metadata": {
            "tags": []
          },
          "execution_count": 2
        }
      ]
    }
  ]
}