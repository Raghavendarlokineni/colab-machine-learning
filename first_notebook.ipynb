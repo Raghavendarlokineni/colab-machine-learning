{
  "nbformat": 4,
  "nbformat_minor": 0,
  "metadata": {
    "colab": {
      "name": "first_notebook.ipynb",
      "provenance": [],
      "authorship_tag": "ABX9TyNYyUbEqXEQnmO2z8y5nVtP",
      "include_colab_link": true
    },
    "kernelspec": {
      "name": "python3",
      "display_name": "Python 3"
    }
  },
  "cells": [
    {
      "cell_type": "markdown",
      "metadata": {
        "id": "view-in-github",
        "colab_type": "text"
      },
      "source": [
        "<a href=\"https://colab.research.google.com/github/Raghavendarlokineni/colab-machine-learning/blob/master/first_notebook.ipynb\" target=\"_parent\"><img src=\"https://colab.research.google.com/assets/colab-badge.svg\" alt=\"Open In Colab\"/></a>"
      ]
    },
    {
      "cell_type": "code",
      "metadata": {
        "id": "EcOARrbV4RO5",
        "colab_type": "code",
        "colab": {
          "base_uri": "https://localhost:8080/",
          "height": 34
        },
        "outputId": "d2d09605-ad9c-4380-f463-1a17937f9dfa"
      },
      "source": [
        "print(\"hello ishaan\")"
      ],
      "execution_count": 1,
      "outputs": [
        {
          "output_type": "stream",
          "text": [
            "hello ishaan\n"
          ],
          "name": "stdout"
        }
      ]
    },
    {
      "cell_type": "code",
      "metadata": {
        "id": "nRD3KzNo4lUz",
        "colab_type": "code",
        "colab": {
          "base_uri": "https://localhost:8080/",
          "height": 353
        },
        "outputId": "d7da53fb-36be-4e6c-d8ea-4b3e4290fef5"
      },
      "source": [
        "for i in range(100):\n",
        "  if i%5 == 0:\n",
        "    print(i)"
      ],
      "execution_count": 2,
      "outputs": [
        {
          "output_type": "stream",
          "text": [
            "0\n",
            "5\n",
            "10\n",
            "15\n",
            "20\n",
            "25\n",
            "30\n",
            "35\n",
            "40\n",
            "45\n",
            "50\n",
            "55\n",
            "60\n",
            "65\n",
            "70\n",
            "75\n",
            "80\n",
            "85\n",
            "90\n",
            "95\n"
          ],
          "name": "stdout"
        }
      ]
    },
    {
      "cell_type": "code",
      "metadata": {
        "id": "MyauPmeB51Mg",
        "colab_type": "code",
        "colab": {
          "base_uri": "https://localhost:8080/",
          "height": 168
        },
        "outputId": "2e66a116-acb5-4fea-d9ba-dd120e7f0030"
      },
      "source": [
        "import numpy as np\n",
        "\n",
        "a = np.array([1,2])\n",
        "a = np.append(a,3)\n",
        "print(\"current array {}\".format(a))\n",
        "print(\"printing elements\")\n",
        "\n",
        "for i in a:\n",
        "  print(i)\n",
        "\n",
        "print(\"printing elements and index\")\n",
        "for i,e in enumerate(a):\n",
        "  print(\"index {} and element {}\".format(i,e))  "
      ],
      "execution_count": 6,
      "outputs": [
        {
          "output_type": "stream",
          "text": [
            "current array [1 2 3]\n",
            "printing elements\n",
            "1\n",
            "2\n",
            "3\n",
            "printing elements and index\n",
            "index 0 and element 1\n",
            "index 1 and element 2\n",
            "index 2 and element 3\n"
          ],
          "name": "stdout"
        }
      ]
    },
    {
      "cell_type": "code",
      "metadata": {
        "id": "j2KG4tf48wUJ",
        "colab_type": "code",
        "colab": {
          "base_uri": "https://localhost:8080/",
          "height": 134
        },
        "outputId": "6dead335-881f-4457-8dca-4c5a6a679929"
      },
      "source": [
        "ls -ltr sample_data/"
      ],
      "execution_count": 8,
      "outputs": [
        {
          "output_type": "stream",
          "text": [
            "total 55504\n",
            "-rwxr-xr-x 1 root root      930 Jan  1  2000 \u001b[0m\u001b[01;32mREADME.md\u001b[0m*\n",
            "-rwxr-xr-x 1 root root     1697 Jan  1  2000 \u001b[01;32manscombe.json\u001b[0m*\n",
            "-rw-r--r-- 1 root root 36523880 May  4 16:26 mnist_train_small.csv\n",
            "-rw-r--r-- 1 root root 18289443 May  4 16:26 mnist_test.csv\n",
            "-rw-r--r-- 1 root root  1706430 May  4 16:26 california_housing_train.csv\n",
            "-rw-r--r-- 1 root root   301141 May  4 16:26 california_housing_test.csv\n"
          ],
          "name": "stdout"
        }
      ]
    }
  ]
}