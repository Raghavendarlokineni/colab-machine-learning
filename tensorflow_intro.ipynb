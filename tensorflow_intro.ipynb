{
  "nbformat": 4,
  "nbformat_minor": 0,
  "metadata": {
    "colab": {
      "name": "tensorflow-intro.ipynb",
      "provenance": [],
      "collapsed_sections": [],
      "authorship_tag": "ABX9TyPebwHdlZA4OBYDfXyRlmZc",
      "include_colab_link": true
    },
    "kernelspec": {
      "name": "python3",
      "display_name": "Python 3"
    }
  },
  "cells": [
    {
      "cell_type": "markdown",
      "metadata": {
        "id": "view-in-github",
        "colab_type": "text"
      },
      "source": [
        "<a href=\"https://colab.research.google.com/github/Raghavendarlokineni/colab-machine-learning/blob/develop/tensorflow_intro.ipynb\" target=\"_parent\"><img src=\"https://colab.research.google.com/assets/colab-badge.svg\" alt=\"Open In Colab\"/></a>"
      ]
    },
    {
      "cell_type": "markdown",
      "metadata": {
        "id": "RL06xegxIbbK",
        "colab_type": "text"
      },
      "source": [
        "**Creating Tensors**"
      ]
    },
    {
      "cell_type": "code",
      "metadata": {
        "id": "M7V9IKpmIfou",
        "colab_type": "code",
        "outputId": "ae8357bf-c48e-4467-b86b-629232f746dc",
        "colab": {
          "base_uri": "https://localhost:8080/",
          "height": 134
        }
      },
      "source": [
        "import tensorflow as tf\n",
        "%tensorflow_version 2.x\n",
        "\n",
        "tensor_int = tf.Variable(100)\n",
        "print(tensor_int)\n",
        "\n",
        "tensor_int2 = tf.Variable(200, dtype=tf.int64)\n",
        "print(tensor_int2)\n",
        "\n",
        "tensor_int3 = tf.Variable(300, tf.int16)\n",
        "print(tensor_int3)\n",
        "\n",
        "tensor2 = tf.Variable(15.0)\n",
        "print(tensor2)\n",
        "\n",
        "tensor3 = tf.Variable(25.0, dtype=tf.float16)\n",
        "print(tensor3)\n",
        "\n",
        "tensor4 = tf.Variable(35.00000000000001, dtype=tf.float64)\n",
        "print(tensor4)\n",
        "\n",
        "tensor_string = tf.Variable(\"hello\", dtype=tf.string)\n",
        "print(tensor_string)\n"
      ],
      "execution_count": 0,
      "outputs": [
        {
          "output_type": "stream",
          "text": [
            "<tf.Variable 'Variable:0' shape=() dtype=int32, numpy=100>\n",
            "<tf.Variable 'Variable:0' shape=() dtype=int64, numpy=200>\n",
            "<tf.Variable 'Variable:0' shape=() dtype=int32, numpy=300>\n",
            "<tf.Variable 'Variable:0' shape=() dtype=float32, numpy=15.0>\n",
            "<tf.Variable 'Variable:0' shape=() dtype=float16, numpy=25.0>\n",
            "<tf.Variable 'Variable:0' shape=() dtype=float64, numpy=35.00000000000001>\n",
            "<tf.Variable 'Variable:0' shape=() dtype=string, numpy=b'hello'>\n"
          ],
          "name": "stdout"
        }
      ]
    },
    {
      "cell_type": "markdown",
      "metadata": {
        "id": "ly8ySIcjW7Cd",
        "colab_type": "text"
      },
      "source": [
        "**Rank/Degree of a Tensor**\n",
        "\n",
        "\n",
        "\n",
        "\n",
        "```\n",
        "### Defines number of dimensions involved in the tensor\n",
        "\n",
        "Rank is also known as Degree, order, ndims\n",
        "```\n",
        "\n",
        "\n"
      ]
    },
    {
      "cell_type": "code",
      "metadata": {
        "id": "oPEU0InxW_Dl",
        "colab_type": "code",
        "outputId": "a0a7cae8-1867-40df-b0ec-afa1c21c8828",
        "colab": {
          "base_uri": "https://localhost:8080/",
          "height": 101
        }
      },
      "source": [
        "tensor1 = tf.Variable([1])\n",
        "print(tf.rank(tensor1))\n",
        "\n",
        "tensor2 = tf.Variable([1,2,3])\n",
        "print(tf.rank(tensor2))\n",
        "\n",
        "tensor3 = tf.Variable([[1],\n",
        "                       [2],\n",
        "                       [3]])\n",
        "print(tf.rank(tensor3))\n",
        "\n",
        "tensor4 = tf.Variable([[1,1],\n",
        "                       [2,2],\n",
        "                       [3,3]])\n",
        "print(tf.rank(tensor4))\n",
        "\n",
        "tensor5 = tf.Variable([\n",
        "                       [[3,3],[1,1]],\n",
        "                       [[1,1],[2,2]],\n",
        "                       [[2,2],[3,3]]\n",
        "                       ])\n",
        "print(tf.rank(tensor5))\n"
      ],
      "execution_count": 0,
      "outputs": [
        {
          "output_type": "stream",
          "text": [
            "tf.Tensor(1, shape=(), dtype=int32)\n",
            "tf.Tensor(1, shape=(), dtype=int32)\n",
            "tf.Tensor(2, shape=(), dtype=int32)\n",
            "tf.Tensor(2, shape=(), dtype=int32)\n",
            "tf.Tensor(3, shape=(), dtype=int32)\n"
          ],
          "name": "stdout"
        }
      ]
    },
    {
      "cell_type": "markdown",
      "metadata": {
        "id": "ESiu-2mNbJHE",
        "colab_type": "text"
      },
      "source": [
        "**Shape of Tensors**\n",
        "\n",
        "\n",
        "\n",
        "```\n",
        "### number of elements exists in each dimension(rank)\n",
        "```\n",
        "\n"
      ]
    },
    {
      "cell_type": "code",
      "metadata": {
        "id": "rArw9NHuceOe",
        "colab_type": "code",
        "outputId": "2f6ca600-99c2-40ca-edb4-95d7b129a7a0",
        "colab": {
          "base_uri": "https://localhost:8080/",
          "height": 101
        }
      },
      "source": [
        "#lets find out shape for above tensors\n",
        "\n",
        "print(tensor1.shape)\n",
        "print(tensor2.shape)\n",
        "print(tensor3.shape)\n",
        "print(tensor4.shape)\n",
        "print(tensor5.shape)"
      ],
      "execution_count": 0,
      "outputs": [
        {
          "output_type": "stream",
          "text": [
            "(1,)\n",
            "(3,)\n",
            "(3, 1)\n",
            "(3, 2)\n",
            "(3, 2, 2)\n"
          ],
          "name": "stdout"
        }
      ]
    },
    {
      "cell_type": "markdown",
      "metadata": {
        "id": "hwKuxeDEg_GQ",
        "colab_type": "text"
      },
      "source": [
        "**Changing Shape of a Tensor**\n",
        "\n",
        "\n",
        "\n",
        "```\n",
        "# Number of elements of a tensor is the product of sizes of all shapes, so tensor5.shape = (3,2,2). \n",
        "So the number of elements of this tensor are 12. \n",
        "\n",
        "```\n",
        "\n",
        "Below examples are to demonstrate reshaping of tensors\n"
      ]
    },
    {
      "cell_type": "code",
      "metadata": {
        "id": "Kqs7fdy3h1wP",
        "colab_type": "code",
        "outputId": "d64a7212-5ec8-41a3-bdbb-962fe96cf91d",
        "colab": {
          "base_uri": "https://localhost:8080/",
          "height": 336
        }
      },
      "source": [
        "#create a tensor with shape(1,2,3) with all ones, either of this are same (1,2,3) or [1,2,3]\n",
        "tensor1 = tf.ones([1,2,3])\n",
        "print(\"TENSOR 1 shape is {1} \\n {0}\\n \".format(tensor1, tensor1.shape))\n",
        "\n",
        "#reshape abover tensor with shape(3,2,1)\n",
        "tensor2= tf.reshape(tensor1, (3,2,1))\n",
        "print(\"TENSOR 2 shape is {1} \\n {0}\\n \".format(tensor2, tensor2.shape))\n",
        "\n",
        "#reshaping in a different way, -1 indicates tensorflow will calculate the size of the dimension by itself with 3. \n",
        "tensor3 = tf.reshape(tensor1,(3,-1))\n",
        "print(\"TENSOR 3 shape is {1} \\n {0}\\n \".format(tensor3, tensor3.shape))\n"
      ],
      "execution_count": 0,
      "outputs": [
        {
          "output_type": "stream",
          "text": [
            "TENSOR 1 shape is (1, 2, 3) \n",
            " [[[1. 1. 1.]\n",
            "  [1. 1. 1.]]]\n",
            " \n",
            "TENSOR 2 shape is (3, 2, 1) \n",
            " [[[1.]\n",
            "  [1.]]\n",
            "\n",
            " [[1.]\n",
            "  [1.]]\n",
            "\n",
            " [[1.]\n",
            "  [1.]]]\n",
            " \n",
            "TENSOR 3 shape is (3, 2) \n",
            " [[1. 1.]\n",
            " [1. 1.]\n",
            " [1. 1.]]\n",
            " \n"
          ],
          "name": "stdout"
        }
      ]
    },
    {
      "cell_type": "markdown",
      "metadata": {
        "id": "bvW-TZMJVUQX",
        "colab_type": "text"
      },
      "source": [
        "**Slicing tensors**\n",
        "\n",
        "This is similar to slicing in python"
      ]
    },
    {
      "cell_type": "code",
      "metadata": {
        "id": "MMzBkWFpVfWE",
        "colab_type": "code",
        "outputId": "77bf5174-028b-41dc-dd33-806000acae88",
        "colab": {
          "base_uri": "https://localhost:8080/",
          "height": 50
        }
      },
      "source": [
        "list_2d = [[1,2,3,4],\n",
        "             [5,6,7,8],\n",
        "             [9,10,11,12]\n",
        "]\n",
        "tensor_2d = tf.Variable(list_2d)\n",
        "\n",
        "print(tensor_2d.shape)\n",
        "print(tf.rank(tensor_2d))"
      ],
      "execution_count": 0,
      "outputs": [
        {
          "output_type": "stream",
          "text": [
            "(3, 4)\n",
            "tf.Tensor(2, shape=(), dtype=int32)\n"
          ],
          "name": "stdout"
        }
      ]
    }
  ]
}