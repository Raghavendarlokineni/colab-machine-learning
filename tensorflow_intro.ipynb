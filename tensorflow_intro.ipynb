{
  "nbformat": 4,
  "nbformat_minor": 0,
  "metadata": {
    "colab": {
      "name": "tensorflow-intro.ipynb",
      "provenance": [],
      "authorship_tag": "ABX9TyPSNa87QR4hh5d+vg0PMIrR",
      "include_colab_link": true
    },
    "kernelspec": {
      "name": "python3",
      "display_name": "Python 3"
    }
  },
  "cells": [
    {
      "cell_type": "markdown",
      "metadata": {
        "id": "view-in-github",
        "colab_type": "text"
      },
      "source": [
        "<a href=\"https://colab.research.google.com/github/Raghavendarlokineni/colab-machine-learning/blob/develop/tensorflow_intro.ipynb\" target=\"_parent\"><img src=\"https://colab.research.google.com/assets/colab-badge.svg\" alt=\"Open In Colab\"/></a>"
      ]
    },
    {
      "cell_type": "markdown",
      "metadata": {
        "id": "RL06xegxIbbK",
        "colab_type": "text"
      },
      "source": [
        "**Creating Tensors**"
      ]
    },
    {
      "cell_type": "code",
      "metadata": {
        "id": "M7V9IKpmIfou",
        "colab_type": "code",
        "colab": {
          "base_uri": "https://localhost:8080/",
          "height": 134
        },
        "outputId": "c8d5a694-90b5-4ec0-dabb-1d5c47d741a7"
      },
      "source": [
        "import tensorflow as tf\n",
        "%tensorflow_version 2.x\n",
        "\n",
        "tensor_int = tf.Variable(100)\n",
        "print(tensor_int)\n",
        "tensor_int2 = tf.Variable(200, dtype=tf.int64)\n",
        "print(tensor_int2)\n",
        "tensor_int3 = tf.Variable(300, tf.int16)\n",
        "print(tensor_int3)\n",
        "tensor2 = tf.Variable(15.0)\n",
        "print(tensor2)\n",
        "tensor3 = tf.Variable(25.0, dtype=tf.float16)\n",
        "print(tensor3)\n",
        "tensor4 = tf.Variable(35.00000000000001, dtype=tf.float64)\n",
        "print(tensor4)\n",
        "tensor_string = tf.Variable(\"hello\", dtype=tf.string)\n",
        "print(tensor_string)"
      ],
      "execution_count": 11,
      "outputs": [
        {
          "output_type": "stream",
          "text": [
            "<tf.Variable 'Variable:0' shape=() dtype=int32, numpy=100>\n",
            "<tf.Variable 'Variable:0' shape=() dtype=int64, numpy=200>\n",
            "<tf.Variable 'Variable:0' shape=() dtype=int32, numpy=300>\n",
            "<tf.Variable 'Variable:0' shape=() dtype=float32, numpy=15.0>\n",
            "<tf.Variable 'Variable:0' shape=() dtype=float16, numpy=25.0>\n",
            "<tf.Variable 'Variable:0' shape=() dtype=float64, numpy=35.00000000000001>\n",
            "<tf.Variable 'Variable:0' shape=() dtype=string, numpy=b'hello'>\n"
          ],
          "name": "stdout"
        }
      ]
    }
  ]
}