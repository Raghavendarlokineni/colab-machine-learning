{
  "nbformat": 4,
  "nbformat_minor": 0,
  "metadata": {
    "colab": {
      "name": "holiday_gifts.ipynb",
      "provenance": [],
      "authorship_tag": "ABX9TyORv44FMvGgk/D7+Qk1qxss",
      "include_colab_link": true
    },
    "kernelspec": {
      "name": "python3",
      "display_name": "Python 3"
    }
  },
  "cells": [
    {
      "cell_type": "markdown",
      "metadata": {
        "id": "view-in-github",
        "colab_type": "text"
      },
      "source": [
        "<a href=\"https://colab.research.google.com/github/Raghavendarlokineni/colab-machine-learning/blob/develop/holiday_gifts.ipynb\" target=\"_parent\"><img src=\"https://colab.research.google.com/assets/colab-badge.svg\" alt=\"Open In Colab\"/></a>"
      ]
    },
    {
      "cell_type": "code",
      "metadata": {
        "id": "pxPvTyrwM5Y5",
        "colab_type": "code",
        "colab": {
          "base_uri": "https://localhost:8080/",
          "height": 50
        },
        "outputId": "9338882b-ae6b-4ef7-c3f1-f967151c2dc1"
      },
      "source": [
        "import time\n",
        "import numpy as np\n",
        "\n",
        "gift_costs = np.array([i for i in np.random.randint(low=10,high=10000,size=10000000)])\n",
        "\n",
        "start_time = time.time()\n",
        "\n",
        "total_price = 0\n",
        "\n",
        "for price in gift_costs:\n",
        "    if price <= 25:\n",
        "        total_price += price * 1.08\n",
        "\n",
        "print(total_price)\n",
        "print(\"Duration: {} seconds\".format(time.time() - start_time))"
      ],
      "execution_count": 15,
      "outputs": [
        {
          "output_type": "stream",
          "text": [
            "304489.7999999971\n",
            "Duration: 3.051619291305542 seconds\n"
          ],
          "name": "stdout"
        }
      ]
    },
    {
      "cell_type": "markdown",
      "metadata": {
        "id": "g0BiV6dkzk0-",
        "colab_type": "text"
      },
      "source": [
        "**Refactoring using numpy**"
      ]
    },
    {
      "cell_type": "code",
      "metadata": {
        "id": "SGZuqAx0zqAo",
        "colab_type": "code",
        "colab": {
          "base_uri": "https://localhost:8080/",
          "height": 50
        },
        "outputId": "318a7be4-e3a5-402a-b22c-0d0f5e7a861b"
      },
      "source": [
        "start = time.time()\n",
        "\n",
        "total_price = (gift_costs[gift_costs <= 25]).sum() * 1.08\n",
        "\n",
        "print(total_price)\n",
        "print('Duration: {} seconds'.format(time.time() - start))"
      ],
      "execution_count": 16,
      "outputs": [
        {
          "output_type": "stream",
          "text": [
            "304489.80000000005\n",
            "Duration: 0.02300095558166504 seconds\n"
          ],
          "name": "stdout"
        }
      ]
    }
  ]
}