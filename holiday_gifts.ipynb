{
  "nbformat": 4,
  "nbformat_minor": 0,
  "metadata": {
    "colab": {
      "name": "holiday_gifts.ipynb",
      "provenance": [],
      "authorship_tag": "ABX9TyOBOUsddBlTanB+Oz/z5Jy5",
      "include_colab_link": true
    },
    "kernelspec": {
      "name": "python3",
      "display_name": "Python 3"
    }
  },
  "cells": [
    {
      "cell_type": "markdown",
      "metadata": {
        "id": "view-in-github",
        "colab_type": "text"
      },
      "source": [
        "<a href=\"https://colab.research.google.com/github/Raghavendarlokineni/colab-machine-learning/blob/develop/holiday_gifts.ipynb\" target=\"_parent\"><img src=\"https://colab.research.google.com/assets/colab-badge.svg\" alt=\"Open In Colab\"/></a>"
      ]
    },
    {
      "cell_type": "code",
      "metadata": {
        "id": "pxPvTyrwM5Y5",
        "colab_type": "code",
        "colab": {
          "base_uri": "https://localhost:8080/",
          "height": 34
        },
        "outputId": "546423fd-e236-4a28-c968-ff77f210d2e4"
      },
      "source": [
        "import time\n",
        "import numpy as np\n",
        "\n",
        "gift_costs = [i for i in np.random.randint(low=10,high=100,size=4)]\n",
        "print(gift_costs)"
      ],
      "execution_count": 4,
      "outputs": [
        {
          "output_type": "stream",
          "text": [
            "[29, 68, 51, 36]\n"
          ],
          "name": "stdout"
        }
      ]
    }
  ]
}