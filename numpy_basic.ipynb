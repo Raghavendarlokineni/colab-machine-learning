{
  "nbformat": 4,
  "nbformat_minor": 0,
  "metadata": {
    "colab": {
      "name": "numpy_basic.ipynb",
      "provenance": [],
      "authorship_tag": "ABX9TyPBeJF67aNTC7/eM95S68D2",
      "include_colab_link": true
    },
    "kernelspec": {
      "name": "python3",
      "display_name": "Python 3"
    }
  },
  "cells": [
    {
      "cell_type": "markdown",
      "metadata": {
        "id": "view-in-github",
        "colab_type": "text"
      },
      "source": [
        "<a href=\"https://colab.research.google.com/github/Raghavendarlokineni/colab-machine-learning/blob/master/numpy_basic.ipynb\" target=\"_parent\"><img src=\"https://colab.research.google.com/assets/colab-badge.svg\" alt=\"Open In Colab\"/></a>"
      ]
    },
    {
      "cell_type": "code",
      "metadata": {
        "id": "eKk4SM1d8Ob6",
        "colab_type": "code",
        "colab": {
          "base_uri": "https://localhost:8080/",
          "height": 84
        },
        "outputId": "4aa94c3d-4881-4a30-928e-a424ad2316ae"
      },
      "source": [
        "import math\n",
        "import numpy as np\n",
        "\n",
        "def flat_curve(arr, n):\n",
        "  return [i + n for i in arr]\n",
        "\n",
        "def square_root(arr):\n",
        "  return [math.sqrt(i) * 10 for i in arr]\n",
        "test_scores = [10, 20, 30, 40, 50]\n",
        "add_5 = flat_curve(test_scores, 5)\n",
        "add_10 = flat_curve(test_scores, 10)\n",
        "curved_sqrt = square_root(test_scores)\n",
        "\n",
        "for score_list in test_scores, add_5, add_10, curved_sqrt:\n",
        "  print(np.mean(score_list))"
      ],
      "execution_count": 3,
      "outputs": [
        {
          "output_type": "stream",
          "text": [
            "30.0\n",
            "35.0\n",
            "40.0\n",
            "53.01452464484371\n"
          ],
          "name": "stdout"
        }
      ]
    }
  ]
}