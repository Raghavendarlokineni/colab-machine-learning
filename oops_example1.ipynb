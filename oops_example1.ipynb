{
  "nbformat": 4,
  "nbformat_minor": 0,
  "metadata": {
    "colab": {
      "name": "oops-example1.ipynb",
      "provenance": [],
      "collapsed_sections": [],
      "authorship_tag": "ABX9TyNa03abZSI5IfmMY9Xy29NQ",
      "include_colab_link": true
    },
    "kernelspec": {
      "name": "python3",
      "display_name": "Python 3"
    }
  },
  "cells": [
    {
      "cell_type": "markdown",
      "metadata": {
        "id": "view-in-github",
        "colab_type": "text"
      },
      "source": [
        "<a href=\"https://colab.research.google.com/github/Raghavendarlokineni/colab-machine-learning/blob/develop/oops_example1.ipynb\" target=\"_parent\"><img src=\"https://colab.research.google.com/assets/colab-badge.svg\" alt=\"Open In Colab\"/></a>"
      ]
    },
    {
      "cell_type": "code",
      "metadata": {
        "id": "1K9ER-PLhyRU",
        "colab_type": "code",
        "colab": {}
      },
      "source": [
        "class Shirt:\n",
        "\n",
        "    def __init__(self, shirt_color, shirt_size, shirt_style, shirt_price):\n",
        "        self.color = shirt_color\n",
        "        self.size  = shirt_size\n",
        "        self.style = shirt_style\n",
        "        self.price = shirt_price\n",
        "\n",
        "    def change_price(self, new_price):\n",
        "        self.price = new_price\n",
        "\n",
        "    def discount(self, discount):\n",
        "        return self.price * (1 - discount)\n",
        "            "
      ],
      "execution_count": 0,
      "outputs": []
    },
    {
      "cell_type": "markdown",
      "metadata": {
        "id": "-viAl8wZjlLg",
        "colab_type": "text"
      },
      "source": [
        "```\n",
        "### TODO:\n",
        "#    - insantiate a shirt object with the following characteristics:\n",
        "#        - color red, size S, style long-sleeve, and price 25\n",
        "#    - store the object in a variable called shirt_one\n",
        "#\n",
        "#\n",
        "###\n",
        "```"
      ]
    },
    {
      "cell_type": "code",
      "metadata": {
        "id": "LlG65hbajpvm",
        "colab_type": "code",
        "colab": {}
      },
      "source": [
        "shirt_one = Shirt(\"red\", \"S\", \"long-sleeve\", 25)"
      ],
      "execution_count": 0,
      "outputs": []
    },
    {
      "cell_type": "markdown",
      "metadata": {
        "id": "kC61dkgdkJVm",
        "colab_type": "text"
      },
      "source": [
        "```\n",
        "### TODO:\n",
        "#     - print the price of the shirt using the price attribute\n",
        "#     - use the change_price method to change the price of the shirt to 10\n",
        "#     - print the price of the shirt using the price attribute\n",
        "#     - use the discount method to print the price of the shirt with a 12% discount\n",
        "#\n",
        "###\n",
        "```"
      ]
    },
    {
      "cell_type": "code",
      "metadata": {
        "id": "BHWL4SPmkMFY",
        "colab_type": "code",
        "colab": {
          "base_uri": "https://localhost:8080/",
          "height": 67
        },
        "outputId": "a3c8af42-d4bd-4ab9-e2b6-4a4cd06be33b"
      },
      "source": [
        "print(shirt_one.price)\n",
        "shirt_one.change_price(10)\n",
        "print(shirt_one.price)\n",
        "shirt_one.discount(0.12)\n"
      ],
      "execution_count": 25,
      "outputs": [
        {
          "output_type": "stream",
          "text": [
            "25\n",
            "10\n"
          ],
          "name": "stdout"
        },
        {
          "output_type": "execute_result",
          "data": {
            "text/plain": [
              "8.8"
            ]
          },
          "metadata": {
            "tags": []
          },
          "execution_count": 25
        }
      ]
    },
    {
      "cell_type": "markdown",
      "metadata": {
        "id": "jLH1O8YDERzj",
        "colab_type": "text"
      },
      "source": [
        "```\n",
        "### TODO:\n",
        "#\n",
        "#    - instantiate another object with the following characteristics:\n",
        "#    - color orange, size L, style short-sleeve, and price 10\n",
        "#    - store the object in a variable called shirt_two\n",
        "#\n",
        "###\n",
        "```"
      ]
    },
    {
      "cell_type": "code",
      "metadata": {
        "id": "WcmyDxw0EZjw",
        "colab_type": "code",
        "colab": {}
      },
      "source": [
        "shirt_two = Shirt(\"orange\", \"L\",  \"short-sleeve\", 10)"
      ],
      "execution_count": 0,
      "outputs": []
    },
    {
      "cell_type": "markdown",
      "metadata": {
        "id": "_AkHYiP2E8KB",
        "colab_type": "text"
      },
      "source": [
        "```\n",
        "### TODO:\n",
        "#\n",
        "#    - calculate the total cost of shirt_one and shirt_two\n",
        "#    - store the results in a variable called total\n",
        "#    \n",
        "###\n",
        "```"
      ]
    },
    {
      "cell_type": "code",
      "metadata": {
        "id": "1sBIG_tBFCaP",
        "colab_type": "code",
        "colab": {
          "base_uri": "https://localhost:8080/",
          "height": 34
        },
        "outputId": "f93ae74c-a3df-4c1c-d4d9-11d98075ba35"
      },
      "source": [
        "total_cost = shirt_one.price + shirt_two.price\n",
        "print(total_cost)"
      ],
      "execution_count": 27,
      "outputs": [
        {
          "output_type": "stream",
          "text": [
            "20\n"
          ],
          "name": "stdout"
        }
      ]
    },
    {
      "cell_type": "markdown",
      "metadata": {
        "id": "VePd8EjyFcLd",
        "colab_type": "text"
      },
      "source": [
        "```\n",
        "### TODO:\n",
        "#\n",
        "#    - use the shirt discount method to calculate the total cost if\n",
        "#       shirt_one has a discount of 14% and shirt_two has a discount\n",
        "#       of 6%\n",
        "#    - store the results in a variable called total_discount\n",
        "###\n",
        "```"
      ]
    },
    {
      "cell_type": "code",
      "metadata": {
        "id": "KHPOnAvFFiQ2",
        "colab_type": "code",
        "colab": {
          "base_uri": "https://localhost:8080/",
          "height": 34
        },
        "outputId": "9f6bf17f-7f6d-4226-f4ac-e95c1e576a31"
      },
      "source": [
        "total_discount = shirt_one.discount(0.14) + shirt_two.discount(0.06)\n",
        "print(total_discount)"
      ],
      "execution_count": 28,
      "outputs": [
        {
          "output_type": "stream",
          "text": [
            "18.0\n"
          ],
          "name": "stdout"
        }
      ]
    },
    {
      "cell_type": "markdown",
      "metadata": {
        "id": "pscSVqu6GFce",
        "colab_type": "text"
      },
      "source": [
        "**define and run tests**"
      ]
    },
    {
      "cell_type": "code",
      "metadata": {
        "id": "PazcXmVUGIPQ",
        "colab_type": "code",
        "colab": {}
      },
      "source": [
        "def run_tests(shirt_one, shirt_two, total_cost, total_discount):\n",
        " \n",
        "    # Unit tests to check your solution\n",
        "    assert shirt_one.price == 10, 'shirt_one price should be 10'\n",
        "    assert shirt_one.color == 'red', ' shirt_one should be red'\n",
        "    assert shirt_one.style == 'long-sleeve', 'shirt_one should be long_sleeve style'\n",
        "    assert shirt_one.size == 'S', 'shirt_one size should be S'\n",
        "\n",
        "    assert shirt_two.price == 10, 'shirt_two price should be 10'\n",
        "    assert shirt_two.color == 'orange', 'shirt_two should be orange'\n",
        "    assert shirt_two.style == 'short-sleeve', 'shirt_two should be short_sleeve style'\n",
        "    assert shirt_two.size == 'L', 'shirt_two size should be L'\n",
        "\n",
        "    assert total_cost == 20, 'the total_cost of both shirts should be 20'\n",
        "    \n",
        "    assert round(total_discount) == 18, 'total_discount should be 18.0'"
      ],
      "execution_count": 0,
      "outputs": []
    },
    {
      "cell_type": "code",
      "metadata": {
        "id": "RRXvj0doGJjo",
        "colab_type": "code",
        "colab": {}
      },
      "source": [
        "run_tests(shirt_one, shirt_two, total_cost, total_discount)"
      ],
      "execution_count": 0,
      "outputs": []
    }
  ]
}