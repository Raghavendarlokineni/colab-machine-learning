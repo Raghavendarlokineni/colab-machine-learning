{
  "nbformat": 4,
  "nbformat_minor": 0,
  "metadata": {
    "colab": {
      "name": "oops-example1.ipynb",
      "provenance": [],
      "collapsed_sections": [],
      "authorship_tag": "ABX9TyOC6FX0FWCD5fd/HvmjPIf8",
      "include_colab_link": true
    },
    "kernelspec": {
      "name": "python3",
      "display_name": "Python 3"
    }
  },
  "cells": [
    {
      "cell_type": "markdown",
      "metadata": {
        "id": "view-in-github",
        "colab_type": "text"
      },
      "source": [
        "<a href=\"https://colab.research.google.com/github/Raghavendarlokineni/colab-machine-learning/blob/develop/oops_example1.ipynb\" target=\"_parent\"><img src=\"https://colab.research.google.com/assets/colab-badge.svg\" alt=\"Open In Colab\"/></a>"
      ]
    },
    {
      "cell_type": "code",
      "metadata": {
        "id": "1K9ER-PLhyRU",
        "colab_type": "code",
        "colab": {}
      },
      "source": [
        "class Shirt:\n",
        "\n",
        "    def __init__(self, shirt_color, shirt_size, shirt_style, shirt_price):\n",
        "        self.color = shirt_color\n",
        "        self.size  = shirt_size\n",
        "        self.style = shirt_style\n",
        "        self.price = shirt_price\n",
        "\n",
        "    def change_price(self, new_price):\n",
        "        self.price = new_price\n",
        "\n",
        "    def discount(self, discount):\n",
        "        return self.price * (1 - discount)\n",
        "            "
      ],
      "execution_count": 0,
      "outputs": []
    },
    {
      "cell_type": "markdown",
      "metadata": {
        "id": "-viAl8wZjlLg",
        "colab_type": "text"
      },
      "source": [
        "```\n",
        "### TODO:\n",
        "#    - insantiate a shirt object with the following characteristics:\n",
        "#        - color red, size S, style long-sleeve, and price 25\n",
        "#    - store the object in a variable called shirt_one\n",
        "#\n",
        "#\n",
        "###\n",
        "```"
      ]
    },
    {
      "cell_type": "code",
      "metadata": {
        "id": "LlG65hbajpvm",
        "colab_type": "code",
        "colab": {}
      },
      "source": [
        "shirt_one = Shirt(\"red\", \"S\", \"long-sleeve\", 25)"
      ],
      "execution_count": 0,
      "outputs": []
    },
    {
      "cell_type": "markdown",
      "metadata": {
        "id": "kC61dkgdkJVm",
        "colab_type": "text"
      },
      "source": [
        "```\n",
        "### TODO:\n",
        "#     - print the price of the shirt using the price attribute\n",
        "#     - use the change_price method to change the price of the shirt to 10\n",
        "#     - print the price of the shirt using the price attribute\n",
        "#     - use the discount method to print the price of the shirt with a 12% discount\n",
        "#\n",
        "###\n",
        "```"
      ]
    },
    {
      "cell_type": "code",
      "metadata": {
        "id": "BHWL4SPmkMFY",
        "colab_type": "code",
        "colab": {}
      },
      "source": [
        ""
      ],
      "execution_count": 0,
      "outputs": []
    }
  ]
}